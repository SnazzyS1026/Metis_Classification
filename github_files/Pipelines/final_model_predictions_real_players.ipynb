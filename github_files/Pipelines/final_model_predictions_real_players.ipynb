{
 "cells": [
  {
   "cell_type": "code",
   "execution_count": 1,
   "id": "b64cb152",
   "metadata": {},
   "outputs": [],
   "source": [
    "import pandas as pd"
   ]
  },
  {
   "cell_type": "code",
   "execution_count": 3,
   "id": "e6d8bbe5",
   "metadata": {},
   "outputs": [
    {
     "data": {
      "text/html": [
       "<style>#sk-container-id-1 {color: black;background-color: white;}#sk-container-id-1 pre{padding: 0;}#sk-container-id-1 div.sk-toggleable {background-color: white;}#sk-container-id-1 label.sk-toggleable__label {cursor: pointer;display: block;width: 100%;margin-bottom: 0;padding: 0.3em;box-sizing: border-box;text-align: center;}#sk-container-id-1 label.sk-toggleable__label-arrow:before {content: \"▸\";float: left;margin-right: 0.25em;color: #696969;}#sk-container-id-1 label.sk-toggleable__label-arrow:hover:before {color: black;}#sk-container-id-1 div.sk-estimator:hover label.sk-toggleable__label-arrow:before {color: black;}#sk-container-id-1 div.sk-toggleable__content {max-height: 0;max-width: 0;overflow: hidden;text-align: left;background-color: #f0f8ff;}#sk-container-id-1 div.sk-toggleable__content pre {margin: 0.2em;color: black;border-radius: 0.25em;background-color: #f0f8ff;}#sk-container-id-1 input.sk-toggleable__control:checked~div.sk-toggleable__content {max-height: 200px;max-width: 100%;overflow: auto;}#sk-container-id-1 input.sk-toggleable__control:checked~label.sk-toggleable__label-arrow:before {content: \"▾\";}#sk-container-id-1 div.sk-estimator input.sk-toggleable__control:checked~label.sk-toggleable__label {background-color: #d4ebff;}#sk-container-id-1 div.sk-label input.sk-toggleable__control:checked~label.sk-toggleable__label {background-color: #d4ebff;}#sk-container-id-1 input.sk-hidden--visually {border: 0;clip: rect(1px 1px 1px 1px);clip: rect(1px, 1px, 1px, 1px);height: 1px;margin: -1px;overflow: hidden;padding: 0;position: absolute;width: 1px;}#sk-container-id-1 div.sk-estimator {font-family: monospace;background-color: #f0f8ff;border: 1px dotted black;border-radius: 0.25em;box-sizing: border-box;margin-bottom: 0.5em;}#sk-container-id-1 div.sk-estimator:hover {background-color: #d4ebff;}#sk-container-id-1 div.sk-parallel-item::after {content: \"\";width: 100%;border-bottom: 1px solid gray;flex-grow: 1;}#sk-container-id-1 div.sk-label:hover label.sk-toggleable__label {background-color: #d4ebff;}#sk-container-id-1 div.sk-serial::before {content: \"\";position: absolute;border-left: 1px solid gray;box-sizing: border-box;top: 0;bottom: 0;left: 50%;z-index: 0;}#sk-container-id-1 div.sk-serial {display: flex;flex-direction: column;align-items: center;background-color: white;padding-right: 0.2em;padding-left: 0.2em;position: relative;}#sk-container-id-1 div.sk-item {position: relative;z-index: 1;}#sk-container-id-1 div.sk-parallel {display: flex;align-items: stretch;justify-content: center;background-color: white;position: relative;}#sk-container-id-1 div.sk-item::before, #sk-container-id-1 div.sk-parallel-item::before {content: \"\";position: absolute;border-left: 1px solid gray;box-sizing: border-box;top: 0;bottom: 0;left: 50%;z-index: -1;}#sk-container-id-1 div.sk-parallel-item {display: flex;flex-direction: column;z-index: 1;position: relative;background-color: white;}#sk-container-id-1 div.sk-parallel-item:first-child::after {align-self: flex-end;width: 50%;}#sk-container-id-1 div.sk-parallel-item:last-child::after {align-self: flex-start;width: 50%;}#sk-container-id-1 div.sk-parallel-item:only-child::after {width: 0;}#sk-container-id-1 div.sk-dashed-wrapped {border: 1px dashed gray;margin: 0 0.4em 0.5em 0.4em;box-sizing: border-box;padding-bottom: 0.4em;background-color: white;}#sk-container-id-1 div.sk-label label {font-family: monospace;font-weight: bold;display: inline-block;line-height: 1.2em;}#sk-container-id-1 div.sk-label-container {text-align: center;}#sk-container-id-1 div.sk-container {/* jupyter's `normalize.less` sets `[hidden] { display: none; }` but bootstrap.min.css set `[hidden] { display: none !important; }` so we also need the `!important` here to be able to override the default hidden behavior on the sphinx rendered scikit-learn.org. See: https://github.com/scikit-learn/scikit-learn/issues/21755 */display: inline-block !important;position: relative;}#sk-container-id-1 div.sk-text-repr-fallback {display: none;}</style><div id=\"sk-container-id-1\" class=\"sk-top-container\"><div class=\"sk-text-repr-fallback\"><pre>RandomForestClassifier(max_depth=70, n_estimators=1877, random_state=42)</pre><b>In a Jupyter environment, please rerun this cell to show the HTML representation or trust the notebook. <br />On GitHub, the HTML representation is unable to render, please try loading this page with nbviewer.org.</b></div><div class=\"sk-container\" hidden><div class=\"sk-item\"><div class=\"sk-estimator sk-toggleable\"><input class=\"sk-toggleable__control sk-hidden--visually\" id=\"sk-estimator-id-1\" type=\"checkbox\" checked><label for=\"sk-estimator-id-1\" class=\"sk-toggleable__label sk-toggleable__label-arrow\">RandomForestClassifier</label><div class=\"sk-toggleable__content\"><pre>RandomForestClassifier(max_depth=70, n_estimators=1877, random_state=42)</pre></div></div></div></div></div>"
      ],
      "text/plain": [
       "RandomForestClassifier(max_depth=70, n_estimators=1877, random_state=42)"
      ]
     },
     "execution_count": 3,
     "metadata": {},
     "output_type": "execute_result"
    }
   ],
   "source": [
    "final_model = pd.read_pickle('final_model.pickle')\n",
    "final_model"
   ]
  },
  {
   "cell_type": "markdown",
   "id": "23b698d8",
   "metadata": {},
   "source": [
    "# Prediction 1 - Stephen Curry"
   ]
  },
  {
   "cell_type": "code",
   "execution_count": 4,
   "id": "cef1b56c",
   "metadata": {},
   "outputs": [],
   "source": [
    "# Pass in Stephen Curry's first-year stats as a rookie. See prediction using final_model\n",
    "GP = 80\n",
    "MIN = 2896\n",
    "PTS = 1399\n",
    "PF = 252\n",
    "REB = 356\n",
    "DREB = 308\n",
    "PLUS_MINUS = -187\n",
    "W = 25\n",
    "OREB = 48\n",
    "TOV = 243\n",
    "AGE = 22\n",
    "\n",
    "s_curry_stats = {'AGE': [AGE],\n",
    "               'GP': [GP],\n",
    "               'W': [W],\n",
    "               'MIN': [MIN],\n",
    "               'PTS': [PTS],\n",
    "               'OREB': [OREB],\n",
    "               'DREB': [DREB],\n",
    "               'REB': [REB], \n",
    "               'TOV': [TOV],\n",
    "               'PF': [PF],\n",
    "               '+/-': [PLUS_MINUS]}\n",
    "\n",
    "# Create stat dataframe\n",
    "X_s_curry = pd.DataFrame(data=s_curry_stats)"
   ]
  },
  {
   "cell_type": "code",
   "execution_count": 5,
   "id": "a577f52b",
   "metadata": {},
   "outputs": [
    {
     "data": {
      "text/plain": [
       "array([1], dtype=int64)"
      ]
     },
     "execution_count": 5,
     "metadata": {},
     "output_type": "execute_result"
    }
   ],
   "source": [
    "y_s_curry_pred = final_model.predict(X_s_curry)\n",
    "y_s_curry_pred"
   ]
  },
  {
   "cell_type": "markdown",
   "id": "eed6e3b6",
   "metadata": {},
   "source": [
    "## Correct!"
   ]
  },
  {
   "cell_type": "markdown",
   "id": "3efcc8e7",
   "metadata": {},
   "source": [
    "# Prediction 2 - Trae Young"
   ]
  },
  {
   "cell_type": "code",
   "execution_count": 6,
   "id": "6ab1d410",
   "metadata": {},
   "outputs": [],
   "source": [
    "# Pass in Trae Young's first-year stats as a rookie. See prediction using final_model\n",
    "AGE = 20\n",
    "GP = 81\n",
    "W = 29\n",
    "MIN = 2503\n",
    "PTS = 1549\n",
    "OREB = 64\n",
    "DREB = 237\n",
    "REB = 301\n",
    "TOV = 308\n",
    "PF = 140\n",
    "PLUS_MINUS = -335\n",
    "\n",
    "t_young_stats = {'AGE': [AGE],\n",
    "               'GP': [GP],\n",
    "               'W': [W],\n",
    "               'MIN': [MIN],\n",
    "               'PTS': [PTS],\n",
    "               'OREB': [OREB],\n",
    "               'DREB': [DREB],\n",
    "               'REB': [REB], \n",
    "               'TOV': [TOV],\n",
    "               'PF': [PF],\n",
    "               '+/-': [PLUS_MINUS]}\n",
    "\n",
    "X_t_young = pd.DataFrame(data=t_young_stats)"
   ]
  },
  {
   "cell_type": "code",
   "execution_count": 7,
   "id": "1d726fe8",
   "metadata": {},
   "outputs": [
    {
     "data": {
      "text/plain": [
       "array([0], dtype=int64)"
      ]
     },
     "execution_count": 7,
     "metadata": {},
     "output_type": "execute_result"
    }
   ],
   "source": [
    "y_t_young_pred = final_model.predict(X_t_young)\n",
    "y_t_young_pred"
   ]
  },
  {
   "cell_type": "markdown",
   "id": "6b65b5cb",
   "metadata": {},
   "source": [
    "## Wrong!"
   ]
  },
  {
   "cell_type": "markdown",
   "id": "bd987098",
   "metadata": {},
   "source": [
    "# Prediction #3 - Luka Doncic"
   ]
  },
  {
   "cell_type": "code",
   "execution_count": 8,
   "id": "3bb09fb2",
   "metadata": {},
   "outputs": [],
   "source": [
    "# Pass in Luka Doncic's first-year stats as a rookie. See prediction using final_model\n",
    "AGE = 20\n",
    "GP = 72\n",
    "W = 28\n",
    "MIN = 32.2\n",
    "PTS = 21.2\n",
    "OREB = 1.2\n",
    "DREB = 6.6\n",
    "REB = 7.8\n",
    "TOV = 3.4\n",
    "PF = 1.9\n",
    "PLUS_MINUS = -1.6\n",
    "\n",
    "l_doncic_stats = {'AGE': [AGE],\n",
    "               'GP': [GP],\n",
    "               'W': [W],\n",
    "               'MIN': [MIN],\n",
    "               'PTS': [PTS],\n",
    "               'OREB': [OREB],\n",
    "               'DREB': [DREB],\n",
    "               'REB': [REB], \n",
    "               'TOV': [TOV],\n",
    "               'PF': [PF],\n",
    "               '+/-': [PLUS_MINUS]}\n",
    "\n",
    "X_l_doncic = pd.DataFrame(data=l_doncic_stats)"
   ]
  },
  {
   "cell_type": "code",
   "execution_count": 9,
   "id": "d3071d4e",
   "metadata": {},
   "outputs": [
    {
     "data": {
      "text/plain": [
       "array([0], dtype=int64)"
      ]
     },
     "execution_count": 9,
     "metadata": {},
     "output_type": "execute_result"
    }
   ],
   "source": [
    "y_l_doncic_pred = final_model.predict(X_l_doncic)\n",
    "y_l_doncic_pred"
   ]
  },
  {
   "cell_type": "markdown",
   "id": "b8bbb96d",
   "metadata": {},
   "source": [
    "## Wrong!"
   ]
  },
  {
   "cell_type": "markdown",
   "id": "9e2bd628",
   "metadata": {},
   "source": [
    "# Prediction #4 - Klay Thompson"
   ]
  },
  {
   "cell_type": "code",
   "execution_count": 10,
   "id": "4f9b313d",
   "metadata": {},
   "outputs": [],
   "source": [
    "# Pass in Klay Thompson's first-year stats as a rookie. See prediction using final_model\n",
    "AGE = 22\n",
    "GP = 66\n",
    "W = 23\n",
    "MIN = 1607.7\n",
    "PTS = 826\n",
    "OREB = 24\n",
    "DREB = 137\n",
    "REB = 161\n",
    "TOV = 103\n",
    "PF = 155\n",
    "PLUS_MINUS = -131\n",
    "\n",
    "k_thompson_stats = {'AGE': [AGE],\n",
    "               'GP': [GP],\n",
    "               'W': [W],\n",
    "               'MIN': [MIN],\n",
    "               'PTS': [PTS],\n",
    "               'OREB': [OREB],\n",
    "               'DREB': [DREB],\n",
    "               'REB': [REB], \n",
    "               'TOV': [TOV],\n",
    "               'PF': [PF],\n",
    "               '+/-': [PLUS_MINUS]}\n",
    "\n",
    "X_k_thompson = pd.DataFrame(data=k_thompson_stats)"
   ]
  },
  {
   "cell_type": "code",
   "execution_count": 11,
   "id": "013110bc",
   "metadata": {},
   "outputs": [
    {
     "data": {
      "text/plain": [
       "array([1], dtype=int64)"
      ]
     },
     "execution_count": 11,
     "metadata": {},
     "output_type": "execute_result"
    }
   ],
   "source": [
    "y_k_thompson_pred = final_model.predict(X_k_thompson)\n",
    "y_k_thompson_pred"
   ]
  },
  {
   "cell_type": "markdown",
   "id": "ff24a38f",
   "metadata": {},
   "source": [
    "## Correct!"
   ]
  },
  {
   "cell_type": "markdown",
   "id": "1271a1dc",
   "metadata": {},
   "source": [
    "# Prediction #5 - Cade Cunningham"
   ]
  },
  {
   "cell_type": "code",
   "execution_count": 12,
   "id": "be92f69e",
   "metadata": {},
   "outputs": [],
   "source": [
    "# Pass in Cade Cunningham's first-year stats as a rookie. See prediction using final_model\n",
    "AGE = 20\n",
    "GP = 64\n",
    "W = 20\n",
    "MIN = 2088.1\n",
    "PTS = 1114\n",
    "OREB = 58\n",
    "DREB = 296\n",
    "REB = 354\n",
    "TOV = 234\n",
    "PF = 100\n",
    "PLUS_MINUS = -275\n",
    "\n",
    "c_cunningham_stats = {'AGE': [AGE],\n",
    "               'GP': [GP],\n",
    "               'W': [W],\n",
    "               'MIN': [MIN],\n",
    "               'PTS': [PTS],\n",
    "               'OREB': [OREB],\n",
    "               'DREB': [DREB],\n",
    "               'REB': [REB], \n",
    "               'TOV': [TOV],\n",
    "               'PF': [PF],\n",
    "               '+/-': [PLUS_MINUS]}\n",
    "\n",
    "X_c_cunningham = pd.DataFrame(data=c_cunningham_stats)"
   ]
  },
  {
   "cell_type": "code",
   "execution_count": 14,
   "id": "ec738147",
   "metadata": {},
   "outputs": [
    {
     "data": {
      "text/plain": [
       "array([0], dtype=int64)"
      ]
     },
     "execution_count": 14,
     "metadata": {},
     "output_type": "execute_result"
    }
   ],
   "source": [
    "y_c_cunningham_pred = final_model.predict(X_c_cunningham )\n",
    "y_c_cunningham_pred"
   ]
  },
  {
   "cell_type": "markdown",
   "id": "ed560975",
   "metadata": {},
   "source": [
    "## We shall see in 3+ years!..."
   ]
  },
  {
   "cell_type": "code",
   "execution_count": null,
   "id": "5ed4af27",
   "metadata": {},
   "outputs": [],
   "source": []
  }
 ],
 "metadata": {
  "kernelspec": {
   "display_name": "Python [conda env:metis] *",
   "language": "python",
   "name": "conda-env-metis-py"
  },
  "language_info": {
   "codemirror_mode": {
    "name": "ipython",
    "version": 3
   },
   "file_extension": ".py",
   "mimetype": "text/x-python",
   "name": "python",
   "nbconvert_exporter": "python",
   "pygments_lexer": "ipython3",
   "version": "3.9.12"
  }
 },
 "nbformat": 4,
 "nbformat_minor": 5
}
