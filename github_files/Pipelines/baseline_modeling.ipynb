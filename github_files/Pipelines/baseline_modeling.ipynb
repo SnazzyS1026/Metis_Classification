{
 "cells": [
  {
   "cell_type": "code",
   "execution_count": 63,
   "id": "b3f596de",
   "metadata": {},
   "outputs": [],
   "source": [
    "# munging imports\n",
    "import pandas as pd\n",
    "import numpy as np\n",
    "\n",
    "# visualization imports\n",
    "import matplotlib.pyplot as plt\n",
    "from matplotlib.colors import LinearSegmentedColormap\n",
    "import seaborn as sns\n",
    "plt.style.use('fivethirtyeight')\n",
    "\n",
    "%matplotlib inline\n",
    "\n",
    "# modeling and performance imports\n",
    "from sklearn.linear_model import LogisticRegression\n",
    "from sklearn.neighbors import KNeighborsClassifier\n",
    "from sklearn.naive_bayes import GaussianNB\n",
    "from sklearn.tree import DecisionTreeClassifier\n",
    "from sklearn.ensemble import RandomForestClassifier\n",
    "from xgboost import XGBClassifier\n",
    "\n",
    "# from sklearn import tree\n",
    "\n",
    "from sklearn.model_selection import train_test_split, cross_val_score, StratifiedKFold, GridSearchCV, RandomizedSearchCV\n",
    "import sklearn.metrics as metrics\n",
    "from sklearn.metrics import precision_score, recall_score, f1_score, accuracy_score, roc_auc_score\n",
    "from sklearn.metrics import confusion_matrix, classification_report, roc_curve\n",
    "from sklearn.preprocessing import StandardScaler\n",
    "from sklearn.feature_selection import SelectFromModel\n",
    "\n",
    "# Random Sampling\n",
    "from imblearn.over_sampling import RandomOverSampler"
   ]
  },
  {
   "cell_type": "markdown",
   "id": "c16d230c",
   "metadata": {},
   "source": [
    "# Load Dataset"
   ]
  },
  {
   "cell_type": "code",
   "execution_count": 2,
   "id": "827d4b5d",
   "metadata": {},
   "outputs": [
    {
     "data": {
      "text/html": [
       "<div>\n",
       "<style scoped>\n",
       "    .dataframe tbody tr th:only-of-type {\n",
       "        vertical-align: middle;\n",
       "    }\n",
       "\n",
       "    .dataframe tbody tr th {\n",
       "        vertical-align: top;\n",
       "    }\n",
       "\n",
       "    .dataframe thead th {\n",
       "        text-align: right;\n",
       "    }\n",
       "</style>\n",
       "<table border=\"1\" class=\"dataframe\">\n",
       "  <thead>\n",
       "    <tr style=\"text-align: right;\">\n",
       "      <th></th>\n",
       "      <th>PLAYER</th>\n",
       "      <th>TEAM</th>\n",
       "      <th>AGE</th>\n",
       "      <th>GP</th>\n",
       "      <th>W</th>\n",
       "      <th>L</th>\n",
       "      <th>MIN</th>\n",
       "      <th>PTS</th>\n",
       "      <th>FG%</th>\n",
       "      <th>3P%</th>\n",
       "      <th>...</th>\n",
       "      <th>TOV</th>\n",
       "      <th>STL</th>\n",
       "      <th>BLK</th>\n",
       "      <th>PF</th>\n",
       "      <th>DD2</th>\n",
       "      <th>TD3</th>\n",
       "      <th>+/-</th>\n",
       "      <th>SEASON</th>\n",
       "      <th>NUM_YRS</th>\n",
       "      <th>TARGET_4UP</th>\n",
       "    </tr>\n",
       "  </thead>\n",
       "  <tbody>\n",
       "    <tr>\n",
       "      <th>2453</th>\n",
       "      <td>Anthony Miller</td>\n",
       "      <td>ATL</td>\n",
       "      <td>25</td>\n",
       "      <td>1</td>\n",
       "      <td>0</td>\n",
       "      <td>1</td>\n",
       "      <td>13.7</td>\n",
       "      <td>0</td>\n",
       "      <td>0.0</td>\n",
       "      <td>0.0</td>\n",
       "      <td>...</td>\n",
       "      <td>0</td>\n",
       "      <td>0</td>\n",
       "      <td>0</td>\n",
       "      <td>2</td>\n",
       "      <td>0</td>\n",
       "      <td>0</td>\n",
       "      <td>-14</td>\n",
       "      <td>1996-97</td>\n",
       "      <td>6</td>\n",
       "      <td>1</td>\n",
       "    </tr>\n",
       "    <tr>\n",
       "      <th>2454</th>\n",
       "      <td>Bruce Bowen</td>\n",
       "      <td>MIA</td>\n",
       "      <td>26</td>\n",
       "      <td>1</td>\n",
       "      <td>1</td>\n",
       "      <td>0</td>\n",
       "      <td>0.6</td>\n",
       "      <td>0</td>\n",
       "      <td>0.0</td>\n",
       "      <td>0.0</td>\n",
       "      <td>...</td>\n",
       "      <td>0</td>\n",
       "      <td>0</td>\n",
       "      <td>1</td>\n",
       "      <td>0</td>\n",
       "      <td>0</td>\n",
       "      <td>0</td>\n",
       "      <td>3</td>\n",
       "      <td>1996-97</td>\n",
       "      <td>13</td>\n",
       "      <td>1</td>\n",
       "    </tr>\n",
       "    <tr>\n",
       "      <th>2455</th>\n",
       "      <td>Cuonzo Martin</td>\n",
       "      <td>MIL</td>\n",
       "      <td>25</td>\n",
       "      <td>3</td>\n",
       "      <td>0</td>\n",
       "      <td>3</td>\n",
       "      <td>13.0</td>\n",
       "      <td>0</td>\n",
       "      <td>0.0</td>\n",
       "      <td>0.0</td>\n",
       "      <td>...</td>\n",
       "      <td>1</td>\n",
       "      <td>0</td>\n",
       "      <td>0</td>\n",
       "      <td>1</td>\n",
       "      <td>0</td>\n",
       "      <td>0</td>\n",
       "      <td>-2</td>\n",
       "      <td>1996-97</td>\n",
       "      <td>1</td>\n",
       "      <td>0</td>\n",
       "    </tr>\n",
       "    <tr>\n",
       "      <th>2456</th>\n",
       "      <td>Derrick Alston</td>\n",
       "      <td>ATL</td>\n",
       "      <td>24</td>\n",
       "      <td>2</td>\n",
       "      <td>1</td>\n",
       "      <td>1</td>\n",
       "      <td>10.6</td>\n",
       "      <td>0</td>\n",
       "      <td>0.0</td>\n",
       "      <td>0.0</td>\n",
       "      <td>...</td>\n",
       "      <td>0</td>\n",
       "      <td>0</td>\n",
       "      <td>0</td>\n",
       "      <td>0</td>\n",
       "      <td>0</td>\n",
       "      <td>0</td>\n",
       "      <td>-7</td>\n",
       "      <td>1996-97</td>\n",
       "      <td>1</td>\n",
       "      <td>0</td>\n",
       "    </tr>\n",
       "    <tr>\n",
       "      <th>2457</th>\n",
       "      <td>Elmore Spencer</td>\n",
       "      <td>SEA</td>\n",
       "      <td>27</td>\n",
       "      <td>1</td>\n",
       "      <td>1</td>\n",
       "      <td>0</td>\n",
       "      <td>5.5</td>\n",
       "      <td>0</td>\n",
       "      <td>0.0</td>\n",
       "      <td>0.0</td>\n",
       "      <td>...</td>\n",
       "      <td>1</td>\n",
       "      <td>1</td>\n",
       "      <td>0</td>\n",
       "      <td>0</td>\n",
       "      <td>0</td>\n",
       "      <td>0</td>\n",
       "      <td>-15</td>\n",
       "      <td>1996-97</td>\n",
       "      <td>1</td>\n",
       "      <td>0</td>\n",
       "    </tr>\n",
       "  </tbody>\n",
       "</table>\n",
       "<p>5 rows × 25 columns</p>\n",
       "</div>"
      ],
      "text/plain": [
       "              PLAYER TEAM  AGE  GP  W  L   MIN  PTS  FG%  3P%  ...  TOV  STL  \\\n",
       "2453  Anthony Miller  ATL   25   1  0  1  13.7    0  0.0  0.0  ...    0    0   \n",
       "2454     Bruce Bowen  MIA   26   1  1  0   0.6    0  0.0  0.0  ...    0    0   \n",
       "2455   Cuonzo Martin  MIL   25   3  0  3  13.0    0  0.0  0.0  ...    1    0   \n",
       "2456  Derrick Alston  ATL   24   2  1  1  10.6    0  0.0  0.0  ...    0    0   \n",
       "2457  Elmore Spencer  SEA   27   1  1  0   5.5    0  0.0  0.0  ...    1    1   \n",
       "\n",
       "      BLK  PF  DD2  TD3  +/-   SEASON  NUM_YRS  TARGET_4UP  \n",
       "2453    0   2    0    0  -14  1996-97        6           1  \n",
       "2454    1   0    0    0    3  1996-97       13           1  \n",
       "2455    0   1    0    0   -2  1996-97        1           0  \n",
       "2456    0   0    0    0   -7  1996-97        1           0  \n",
       "2457    0   0    0    0  -15  1996-97        1           0  \n",
       "\n",
       "[5 rows x 25 columns]"
      ]
     },
     "execution_count": 2,
     "metadata": {},
     "output_type": "execute_result"
    }
   ],
   "source": [
    "rookie_yrs = pd.read_csv('rookie_yrs.csv', encoding='utf-8')\n",
    "rookie_yrs.tail(5)"
   ]
  },
  {
   "cell_type": "markdown",
   "id": "782d4b09",
   "metadata": {},
   "source": [
    "# Partition Dataset"
   ]
  },
  {
   "cell_type": "code",
   "execution_count": 3,
   "id": "c3e719fc",
   "metadata": {},
   "outputs": [],
   "source": [
    "# With small dataset and to reduce variance, split with cross-validation in mind\n",
    "\n",
    "\"\"\"\n",
    "Drop string columns: 'SEASON', 'PLAYER', 'TEAM'.\n",
    "Drop target column: 'TARGET_4UP'\n",
    "Drop column 'NUM_YRS' used to make target column\n",
    "\"\"\"\n",
    "\n",
    "X = rookie_yrs.drop(columns=['PLAYER', 'TEAM', 'SEASON','TARGET_4UP', 'NUM_YRS']) \n",
    "y = rookie_yrs['TARGET_4UP']\n",
    "\n",
    "# Use stratify to ensure minority class is included in both train/test set in 80:20 ratio each\n",
    "X_train, X_test, y_train, y_test = train_test_split(X, y, test_size=0.2, \n",
    "                                                    random_state=42, \n",
    "                                                    stratify=y)\n",
    "\n",
    "# Use StratifyKFold to ensure that each fold has the same proportion of observations\n",
    "kf = StratifiedKFold(n_splits=5, shuffle=True, random_state=42)"
   ]
  },
  {
   "cell_type": "markdown",
   "id": "b6c3ff64",
   "metadata": {},
   "source": [
    "# Scoring Method"
   ]
  },
  {
   "cell_type": "code",
   "execution_count": 4,
   "id": "9d5c1ea7",
   "metadata": {},
   "outputs": [],
   "source": [
    "\"\"\"\n",
    "Create a function to score metrics using cross-validation.\n",
    "Print out mean of all scores and include the spread of scores.\n",
    "\"\"\"\n",
    "\n",
    "\n",
    "def score_metrics(model, X_train, y_train):\n",
    "    \n",
    "    # cross_val_score will print an array of scores\n",
    "    accuracy_score = cross_val_score(model, X_train, y_train,\n",
    "                                 cv=kf, \n",
    "                                 scoring='accuracy')\n",
    "    precision_score = cross_val_score(model, X_train, y_train,\n",
    "                             cv=kf, \n",
    "                             scoring='precision')               \n",
    "    recall_score = cross_val_score(model, X_train, y_train,\n",
    "                             cv=kf, \n",
    "                             scoring='recall')  \n",
    "    f1_score = cross_val_score(model, X_train, y_train,\n",
    "                             cv=kf, \n",
    "                             scoring='f1')\n",
    "    roc_auc_score = cross_val_score(model, X_train, y_train,\n",
    "                             cv=kf, \n",
    "                             scoring='roc_auc')\n",
    "    \n",
    "    # Take the mean of each score set\n",
    "    accuracy_mean = np.mean(accuracy_score)\n",
    "    precision_mean = np.mean(precision_score)\n",
    "    recall_mean = np.mean(recall_score)                                     \n",
    "    f1_mean = np.mean(f1_score)\n",
    "    roc_auc_mean = np.mean(roc_auc_score)\n",
    "    \n",
    "    # Print mean scores and their spread\n",
    "    print(f\"Accuracy: {np.mean(accuracy_score):.3f} +- {np.std(accuracy_score):.3f}\")\n",
    "    print(f\"Precision: {np.mean(precision_score):.3f} +- {np.std(precision_score):.3f}\")\n",
    "    print(f\"Recall: {np.mean(recall_score):.3f} +- {np.std(recall_score):.3f}\")\n",
    "    print(f\"F1: {np.mean(f1_score):.3f} +- {np.std(f1_score):.3f}\")\n",
    "    print(f\"ROC-AUC: {np.mean(roc_auc_score):.3f} +- {np.std(roc_auc_score):.3f}\")"
   ]
  },
  {
   "cell_type": "markdown",
   "id": "a7df6fd2",
   "metadata": {},
   "source": [
    "# Baseline Models"
   ]
  },
  {
   "cell_type": "code",
   "execution_count": 5,
   "id": "ba4ebcbc",
   "metadata": {},
   "outputs": [],
   "source": [
    "\"\"\"\n",
    "Build baseline models at default settings, no hyperparameter tuning.\n",
    "\"\"\"\n",
    "\n",
    "lr = LogisticRegression() \n",
    "knn = KNeighborsClassifier(n_neighbors=10)\n",
    "nb = GaussianNB()\n",
    "clf = DecisionTreeClassifier(random_state=42)\n",
    "rf = RandomForestClassifier()\n",
    "xgb = XGBClassifier(use_label_encoder=False )"
   ]
  },
  {
   "cell_type": "markdown",
   "id": "d924add8",
   "metadata": {},
   "source": [
    "# Summary of Baseline Scores\n",
    "### Without Hyperparameter Tuning"
   ]
  },
  {
   "cell_type": "code",
   "execution_count": 24,
   "id": "579d6161",
   "metadata": {},
   "outputs": [
    {
     "name": "stdout",
     "output_type": "stream",
     "text": [
      "Summary of Baseline Scores: \n",
      "\n",
      "\n",
      "Logistic regression (1-F) mean scores: \n",
      "Accuracy: 0.733 +- 0.009\n",
      "Precision: 0.739 +- 0.024\n",
      "Recall: 0.551 +- 0.018\n",
      "F1: 0.631 +- 0.011\n",
      "ROC-AUC: 0.789 +- 0.005\n",
      "\n",
      "\n",
      "Logistic regression (3-F) mean scores: \n",
      "Accuracy: 0.742 +- 0.012\n",
      "Precision: 0.711 +- 0.021\n",
      "Recall: 0.635 +- 0.023\n",
      "F1: 0.670 +- 0.016\n",
      "ROC-AUC: 0.796 +- 0.004\n",
      "\n",
      "\n",
      "Logistic regression (all-F) mean scores: \n",
      "Accuracy: 0.753 +- 0.013\n",
      "Precision: 0.735 +- 0.022\n",
      "Recall: 0.632 +- 0.034\n",
      "F1: 0.679 +- 0.019\n",
      "ROC-AUC: 0.821 +- 0.009\n",
      "\n",
      "\n",
      "kNN mean scores: \n",
      "Accuracy: 0.732 +- 0.016\n",
      "Precision: 0.715 +- 0.019\n",
      "Recall: 0.584 +- 0.038\n",
      "F1: 0.643 +- 0.029\n",
      "ROC-AUC: 0.778 +- 0.013\n",
      "\n",
      "\n",
      "Gaussian NB (3-F) mean scores: \n",
      "Accuracy: 0.735 +- 0.014\n",
      "Precision: 0.728 +- 0.025\n",
      "Recall: 0.574 +- 0.035\n",
      "F1: 0.641 +- 0.024\n",
      "ROC-AUC: 0.793 +- 0.005\n",
      "\n",
      "\n",
      "Gaussian NB (all-F) mean scores: \n",
      "Accuracy: 0.740 +- 0.014\n",
      "Precision: 0.745 +- 0.020\n",
      "Recall: 0.562 +- 0.031\n",
      "F1: 0.641 +- 0.025\n",
      "ROC-AUC: 0.799 +- 0.006\n",
      "\n",
      "\n",
      "Decision Tree mean scores: \n",
      "Accuracy: 0.652 +- 0.023\n",
      "Precision: 0.576 +- 0.025\n",
      "Recall: 0.592 +- 0.050\n",
      "F1: 0.583 +- 0.035\n",
      "ROC-AUC: 0.643 +- 0.026\n",
      "\n",
      "\n",
      "Random Forest mean scores: \n",
      "Accuracy: 0.742 +- 0.015\n",
      "Precision: 0.718 +- 0.021\n",
      "Recall: 0.621 +- 0.037\n",
      "F1: 0.670 +- 0.020\n",
      "ROC-AUC: 0.806 +- 0.010\n",
      "\n",
      "\n",
      "XGBoost mean scores: \n",
      "Accuracy: 0.726 +- 0.014\n",
      "Precision: 0.683 +- 0.026\n",
      "Recall: 0.631 +- 0.021\n",
      "F1: 0.656 +- 0.015\n",
      "ROC-AUC: 0.796 +- 0.014\n"
     ]
    }
   ],
   "source": [
    "print(\"Summary of Baseline Scores: \")\n",
    "\n",
    "print('\\n')\n",
    "\n",
    "# Logistic Regression with 1-Feature Input\n",
    "print(\"Logistic regression (1-F) mean scores: \")\n",
    "lr1f_scores = score_metrics(model=lr, X_train=X_train[['MIN']], y_train=y_train)\n",
    "\n",
    "print('\\n')\n",
    "\n",
    "# Logistic Regression with 3-Feature Input\n",
    "# Scale features\n",
    "std_scale = StandardScaler()\n",
    "X_train_scaled = std_scale.fit_transform(X_train[['MIN', 'GP', 'PTS']])\n",
    "\n",
    "print(\"Logistic regression (3-F) mean scores: \")\n",
    "lr3f_scores = score_metrics(model=lr, X_train=X_train_scaled, y_train=y_train)\n",
    "\n",
    "print('\\n')\n",
    "\n",
    "# Logistic Regression with ALL-Feature Input\n",
    "# Scale features\n",
    "std_scale = StandardScaler()\n",
    "X_train_all_scaled = std_scale.fit_transform(X_train)\n",
    "\n",
    "print(\"Logistic regression (all-F) mean scores: \")\n",
    "lr_all_scores = score_metrics(model=lr, X_train=X_train_all_scaled, y_train=y_train)\n",
    "\n",
    "print('\\n')\n",
    "\n",
    "# kNN\n",
    "print(\"kNN mean scores: \")\n",
    "knn_scores = score_metrics(model=knn, X_train=X_train, y_train=y_train)\n",
    "\n",
    "print('\\n')\n",
    "\n",
    "# Gaussian NB\n",
    "print(\"Gaussian NB (3-F) mean scores: \")\n",
    "gaussiannb_scores = score_metrics(model=nb, X_train=X_train[['MIN', 'GP', 'PTS']], y_train=y_train)\n",
    "\n",
    "print('\\n')\n",
    "\n",
    "print(\"Gaussian NB (all-F) mean scores: \")\n",
    "gaussiannb_all_scores = score_metrics(model=nb, X_train=X_train, y_train=y_train)\n",
    "\n",
    "print('\\n')\n",
    "\n",
    "# Decision Tree\n",
    "print(\"Decision Tree mean scores: \")\n",
    "decision_tree_scores = score_metrics(model=clf, X_train=X_train, y_train=y_train)\n",
    "\n",
    "print('\\n')\n",
    "\n",
    "# Random Forest\n",
    "print(\"Random Forest mean scores: \")\n",
    "random_forest_scores = score_metrics(model=rf, X_train=X_train, y_train=y_train)\n",
    "\n",
    "print('\\n')\n",
    "\n",
    "# XGBoost\n",
    "print(\"XGBoost mean scores: \")\n",
    "xgboost_scores = score_metrics(model=xgb, X_train=X_train, y_train=y_train)"
   ]
  },
  {
   "cell_type": "markdown",
   "id": "d09baa9d",
   "metadata": {},
   "source": [
    "**The baseline model with the highest F1 score: Logistic Regression with all-Features.**"
   ]
  },
  {
   "cell_type": "markdown",
   "id": "59557454",
   "metadata": {},
   "source": [
    "### A Glance at Feature Importance"
   ]
  },
  {
   "cell_type": "code",
   "execution_count": 47,
   "id": "5859b762",
   "metadata": {},
   "outputs": [
    {
     "data": {
      "text/plain": [
       "[('AGE', 0.0488307386422859),\n",
       " ('GP', 0.09998928531569654),\n",
       " ('W', 0.052701402908435946),\n",
       " ('L', 0.036800525040549266),\n",
       " ('MIN', 0.07101035060656923),\n",
       " ('PTS', 0.07146735936454233),\n",
       " ('FG%', 0.04638381203447719),\n",
       " ('3P%', 0.030814820465917065),\n",
       " ('FT%', 0.041019359853341535),\n",
       " ('OREB', 0.06082022861167745),\n",
       " ('DREB', 0.07322439857912888),\n",
       " ('REB', 0.06770322239802432),\n",
       " ('AST', 0.04183752291147921),\n",
       " ('TOV', 0.04827974513983178),\n",
       " ('STL', 0.043170169764091035),\n",
       " ('BLK', 0.034512891540223696),\n",
       " ('PF', 0.06457548778682294),\n",
       " ('DD2', 0.014537456217598653),\n",
       " ('TD3', 0.0022643043028582124),\n",
       " ('+/-', 0.05005691851644903)]"
      ]
     },
     "execution_count": 47,
     "metadata": {},
     "output_type": "execute_result"
    }
   ],
   "source": [
    "# Let's take a look at the feature importance score provided by the random forest model\n",
    "# First, fit the model\n",
    "rf.fit(X_train, y_train)\n",
    "\n",
    "# Feature coefficient results\n",
    "list(zip(X_train.columns, rf.feature_importances_))"
   ]
  },
  {
   "cell_type": "code",
   "execution_count": 94,
   "id": "6956ebe5",
   "metadata": {},
   "outputs": [
    {
     "data": {
      "text/plain": [
       "Text(0, 0.5, 'Coefficients')"
      ]
     },
     "execution_count": 94,
     "metadata": {},
     "output_type": "execute_result"
    },
    {
     "data": {
      "image/png": "[encoded data removed]",
      "text/plain": [
       "<Figure size 576x432 with 1 Axes>"
      ]
     },
     "metadata": {
      "needs_background": "light"
     },
     "output_type": "display_data"
    }
   ],
   "source": [
    "# Then, plot the features importances to see how they compare to each other\n",
    "# Note: feature importance how tells us how they relate to each other, not WHY they are important\n",
    "feat_importances = pd.DataFrame(rf.feature_importances_, index=X_train.columns, columns=[\"Importance\"])\n",
    "feat_importances.sort_values(by='Importance', ascending=False, inplace=True)\n",
    "feat_importances.plot(kind='bar', figsize=(8,6))\n",
    "plt.xlabel('Features')\n",
    "plt.ylabel('Coefficients')"
   ]
  },
  {
   "cell_type": "markdown",
   "id": "6ccfad37",
   "metadata": {},
   "source": [
    "**Using Random Forest, we see that the most important feature is GP (Games Played), followed by MIN (Minutes Played) and PF (Personal Fouls).**"
   ]
  },
  {
   "cell_type": "markdown",
   "id": "2ffefcdb",
   "metadata": {},
   "source": [
    "# Treating Class Imbalance"
   ]
  },
  {
   "cell_type": "markdown",
   "id": "97450005",
   "metadata": {},
   "source": [
    "Let's see if we can improve our scores by addressing our class imbalance. Recall that during the EDA stage, we found the ratio of 1's:0's to be ~ 0.41/0.59."
   ]
  },
  {
   "cell_type": "code",
   "execution_count": 6,
   "id": "161e3410",
   "metadata": {},
   "outputs": [
    {
     "name": "stdout",
     "output_type": "stream",
     "text": [
      "Shape of X_train before oversampling:  (1966, 20)\n",
      "Shape of y_train before oversampling:  (1966,)\n",
      "\n",
      "\n",
      "Shape of X_train after oversampling:  (2306, 20)\n",
      "Shape of y_train after oversampling:  (2306,)\n"
     ]
    }
   ],
   "source": [
    "\"\"\"\n",
    "The dataset has ~ 40/60 split of class distribution, with the 40% being the target class.  \n",
    "Let's try resampling our dataset to see if we could get higher scores on our metrics.\n",
    "\"\"\"\n",
    "print('Shape of X_train before oversampling: ', X_train.shape)\n",
    "print('Shape of y_train before oversampling: ', y_train.shape)\n",
    "print('\\n')\n",
    "\n",
    "# Randomly oversample positives\n",
    "ros = RandomOverSampler(random_state=42)\n",
    "\n",
    "X_train_ros, y_train_ros = ros.fit_resample(X_train, y_train)\n",
    "\n",
    "print('Shape of X_train after oversampling: ', X_train_ros.shape)\n",
    "print('Shape of y_train after oversampling: ', y_train_ros.shape)"
   ]
  },
  {
   "cell_type": "markdown",
   "id": "49a2cf6f",
   "metadata": {},
   "source": [
    "**Now, the two class distributions are balanced. Try running the models using the balanced distributions and compare scores.**"
   ]
  },
  {
   "cell_type": "markdown",
   "id": "7971b31c",
   "metadata": {},
   "source": [
    "### Summary of Scores After Resampling"
   ]
  },
  {
   "cell_type": "code",
   "execution_count": 25,
   "id": "97115d8c",
   "metadata": {},
   "outputs": [
    {
     "name": "stdout",
     "output_type": "stream",
     "text": [
      "Summary of Resampled Dataset Scores: \n",
      "\n",
      "\n",
      "Logistic regression (all-F) mean scores: \n",
      "Accuracy: 0.742 +- 0.014\n",
      "Precision: 0.754 +- 0.019\n",
      "Recall: 0.718 +- 0.019\n",
      "F1: 0.735 +- 0.014\n",
      "ROC-AUC: 0.829 +- 0.009\n",
      "\n",
      "\n",
      "kNN mean scores: \n",
      "Accuracy: 0.724 +- 0.008\n",
      "Precision: 0.748 +- 0.007\n",
      "Recall: 0.676 +- 0.019\n",
      "F1: 0.710 +- 0.011\n",
      "ROC-AUC: 0.792 +- 0.007\n",
      "\n",
      "\n",
      "Gaussian NB (all-F) mean scores: \n",
      "Accuracy: 0.722 +- 0.020\n",
      "Precision: 0.807 +- 0.020\n",
      "Recall: 0.585 +- 0.032\n",
      "F1: 0.678 +- 0.027\n",
      "ROC-AUC: 0.806 +- 0.016\n",
      "\n",
      "\n",
      "Decision Tree mean scores: \n",
      "Accuracy: 0.746 +- 0.015\n",
      "Precision: 0.727 +- 0.019\n",
      "Recall: 0.789 +- 0.025\n",
      "F1: 0.756 +- 0.014\n",
      "ROC-AUC: 0.746 +- 0.015\n",
      "\n",
      "\n",
      "Random Forest mean scores: \n",
      "Accuracy: 0.807 +- 0.006\n",
      "Precision: 0.812 +- 0.021\n",
      "Recall: 0.818 +- 0.017\n",
      "F1: 0.818 +- 0.018\n",
      "ROC-AUC: 0.892 +- 0.009\n",
      "\n",
      "\n",
      "XGBoost mean scores: \n",
      "Accuracy: 0.800 +- 0.025\n",
      "Precision: 0.787 +- 0.037\n",
      "Recall: 0.825 +- 0.006\n",
      "F1: 0.805 +- 0.021\n",
      "ROC-AUC: 0.876 +- 0.013\n"
     ]
    }
   ],
   "source": [
    "print(\"Summary of Resampled Dataset Scores: \")\n",
    "\n",
    "print('\\n')\n",
    "\n",
    "# Logistic Regression with ALL-Feature Input\n",
    "# Scale features\n",
    "X_train_all_ros_scaled = std_scale.fit_transform(X_train_ros)\n",
    "\n",
    "print(\"Logistic regression (all-F) mean scores: \")\n",
    "score_metrics(model=lr, X_train=X_train_all_ros_scaled, y_train=y_train_ros)\n",
    "\n",
    "print('\\n')\n",
    "\n",
    "# kNN\n",
    "print(\"kNN mean scores: \")\n",
    "score_metrics(model=knn, X_train=X_train_ros, y_train=y_train_ros)\n",
    "\n",
    "print('\\n')\n",
    "\n",
    "print(\"Gaussian NB (all-F) mean scores: \")\n",
    "score_metrics(model=nb, X_train=X_train_ros, y_train=y_train_ros)\n",
    "\n",
    "print('\\n')\n",
    "\n",
    "# Decision Tree\n",
    "print(\"Decision Tree mean scores: \")\n",
    "score_metrics(model=clf, X_train=X_train_ros, y_train=y_train_ros)\n",
    "\n",
    "print('\\n')\n",
    "\n",
    "# Random Forest\n",
    "print(\"Random Forest mean scores: \")\n",
    "score_metrics(model=rf, X_train=X_train_ros, y_train=y_train_ros)\n",
    "\n",
    "print('\\n')\n",
    "\n",
    "print(\"XGBoost mean scores: \")\n",
    "score_metrics(model=xgb, X_train=X_train_ros, y_train=y_train_ros)"
   ]
  },
  {
   "cell_type": "markdown",
   "id": "7dd1eba5",
   "metadata": {},
   "source": [
    "**In general, we see our scores improve across the board! Especially so, for Random Forest and XGBoost.  Let's see if we can improve the scores further with more feature engineering.**"
   ]
  },
  {
   "cell_type": "markdown",
   "id": "74489e3f",
   "metadata": {},
   "source": [
    "# Feature Engineering"
   ]
  },
  {
   "cell_type": "code",
   "execution_count": 99,
   "id": "821aa02f",
   "metadata": {},
   "outputs": [
    {
     "name": "stderr",
     "output_type": "stream",
     "text": [
      "C:\\Users\\sandr\\anaconda3\\envs\\metis\\lib\\site-packages\\seaborn\\distributions.py:2619: FutureWarning: `distplot` is a deprecated function and will be removed in a future version. Please adapt your code to use either `displot` (a figure-level function with similar flexibility) or `histplot` (an axes-level function for histograms).\n",
      "  warnings.warn(msg, FutureWarning)\n",
      "C:\\Users\\sandr\\anaconda3\\envs\\metis\\lib\\site-packages\\seaborn\\distributions.py:2619: FutureWarning: `distplot` is a deprecated function and will be removed in a future version. Please adapt your code to use either `displot` (a figure-level function with similar flexibility) or `histplot` (an axes-level function for histograms).\n",
      "  warnings.warn(msg, FutureWarning)\n",
      "C:\\Users\\sandr\\anaconda3\\envs\\metis\\lib\\site-packages\\seaborn\\distributions.py:2619: FutureWarning: `distplot` is a deprecated function and will be removed in a future version. Please adapt your code to use either `displot` (a figure-level function with similar flexibility) or `histplot` (an axes-level function for histograms).\n",
      "  warnings.warn(msg, FutureWarning)\n",
      "C:\\Users\\sandr\\anaconda3\\envs\\metis\\lib\\site-packages\\seaborn\\distributions.py:2619: FutureWarning: `distplot` is a deprecated function and will be removed in a future version. Please adapt your code to use either `displot` (a figure-level function with similar flexibility) or `histplot` (an axes-level function for histograms).\n",
      "  warnings.warn(msg, FutureWarning)\n",
      "C:\\Users\\sandr\\anaconda3\\envs\\metis\\lib\\site-packages\\seaborn\\distributions.py:2619: FutureWarning: `distplot` is a deprecated function and will be removed in a future version. Please adapt your code to use either `displot` (a figure-level function with similar flexibility) or `histplot` (an axes-level function for histograms).\n",
      "  warnings.warn(msg, FutureWarning)\n",
      "C:\\Users\\sandr\\anaconda3\\envs\\metis\\lib\\site-packages\\IPython\\core\\pylabtools.py:151: UserWarning: There are no gridspecs with layoutgrids. Possibly did not call parent GridSpec with the \"figure\" keyword\n",
      "  fig.canvas.print_figure(bytes_io, **kw)\n"
     ]
    },
    {
     "data": {
      "image/png": "[encoded data removed]",
      "text/plain": [
       "<Figure size 1080x864 with 5 Axes>"
      ]
     },
     "metadata": {
      "needs_background": "light"
     },
     "output_type": "display_data"
    }
   ],
   "source": [
    "# Unfortunately, most of the features do not exhibit normal distribution.  \n",
    "# This violates Gaussian assumption of normal distribution.  \n",
    "# Here are the top 5 feature distribution plots.\n",
    "\n",
    "from matplotlib.gridspec import GridSpec\n",
    "\n",
    "gs = GridSpec(3,2)\n",
    "gs.update(wspace = 0.5, hspace = 0.5)\n",
    "fig = plt.figure(figsize=([15,12]), constrained_layout=True)\n",
    "\n",
    "# GP\n",
    "ax=plt.subplot(gs[0,0])\n",
    "ax=sns.distplot(rookie_yrs['GP'])\n",
    "plt.title('Histplot - GP')\n",
    "\n",
    "# MIN\n",
    "ax1=plt.subplot(gs[0,1])\n",
    "ax1=sns.distplot(rookie_yrs['MIN'])\n",
    "plt.title('Histplot - MIN')\n",
    "\n",
    "# PF\n",
    "ax2=plt.subplot(gs[1,0])\n",
    "ax2=sns.distplot(rookie_yrs['PF'])\n",
    "plt.title('Histplot - PF')\n",
    "\n",
    "# REB\n",
    "ax3=plt.subplot(gs[1,1])\n",
    "ax3=sns.distplot(rookie_yrs['REB'])\n",
    "plt.title('Histplot - REB')\n",
    "\n",
    "# PTS\n",
    "ax4=plt.subplot(gs[2,0])\n",
    "ax4=sns.distplot(rookie_yrs['PTS'])\n",
    "plt.title('Histplot - PTS')\n",
    "\n",
    "plt.show()"
   ]
  },
  {
   "cell_type": "markdown",
   "id": "e959d01f",
   "metadata": {},
   "source": [
    "### Log Transformation"
   ]
  },
  {
   "cell_type": "markdown",
   "id": "30a7ee86",
   "metadata": {},
   "source": [
    "**Let's try a Log Transformation of the top 5 features, based on the feature importance chart from Random Forest, to see if this will fix the problem.**"
   ]
  },
  {
   "cell_type": "code",
   "execution_count": 23,
   "id": "1993f875",
   "metadata": {},
   "outputs": [],
   "source": [
    "rookie_yrs['log_GP'] = np.log(rookie_yrs['GP'] + 0.0001) # avoid zero error for log transformation\n",
    "rookie_yrs['log_PF']= np.log(rookie_yrs['PF'] + 0.0001)\n",
    "rookie_yrs['log_MIN'] = np.log(rookie_yrs['MIN'] + 0.0001)\n",
    "rookie_yrs['log_PTS'] = np.log(rookie_yrs['PTS'] + 0.0001)\n",
    "rookie_yrs['log_REB'] = np.log(rookie_yrs['REB'] + 0.0001)"
   ]
  },
  {
   "cell_type": "code",
   "execution_count": 108,
   "id": "1ca7b16a",
   "metadata": {},
   "outputs": [
    {
     "name": "stderr",
     "output_type": "stream",
     "text": [
      "C:\\Users\\sandr\\anaconda3\\envs\\metis\\lib\\site-packages\\seaborn\\distributions.py:2619: FutureWarning: `distplot` is a deprecated function and will be removed in a future version. Please adapt your code to use either `displot` (a figure-level function with similar flexibility) or `histplot` (an axes-level function for histograms).\n",
      "  warnings.warn(msg, FutureWarning)\n",
      "C:\\Users\\sandr\\anaconda3\\envs\\metis\\lib\\site-packages\\seaborn\\distributions.py:2619: FutureWarning: `distplot` is a deprecated function and will be removed in a future version. Please adapt your code to use either `displot` (a figure-level function with similar flexibility) or `histplot` (an axes-level function for histograms).\n",
      "  warnings.warn(msg, FutureWarning)\n",
      "C:\\Users\\sandr\\anaconda3\\envs\\metis\\lib\\site-packages\\seaborn\\distributions.py:2619: FutureWarning: `distplot` is a deprecated function and will be removed in a future version. Please adapt your code to use either `displot` (a figure-level function with similar flexibility) or `histplot` (an axes-level function for histograms).\n",
      "  warnings.warn(msg, FutureWarning)\n",
      "C:\\Users\\sandr\\anaconda3\\envs\\metis\\lib\\site-packages\\seaborn\\distributions.py:2619: FutureWarning: `distplot` is a deprecated function and will be removed in a future version. Please adapt your code to use either `displot` (a figure-level function with similar flexibility) or `histplot` (an axes-level function for histograms).\n",
      "  warnings.warn(msg, FutureWarning)\n",
      "C:\\Users\\sandr\\anaconda3\\envs\\metis\\lib\\site-packages\\seaborn\\distributions.py:2619: FutureWarning: `distplot` is a deprecated function and will be removed in a future version. Please adapt your code to use either `displot` (a figure-level function with similar flexibility) or `histplot` (an axes-level function for histograms).\n",
      "  warnings.warn(msg, FutureWarning)\n",
      "C:\\Users\\sandr\\anaconda3\\envs\\metis\\lib\\site-packages\\IPython\\core\\pylabtools.py:151: UserWarning: There are no gridspecs with layoutgrids. Possibly did not call parent GridSpec with the \"figure\" keyword\n",
      "  fig.canvas.print_figure(bytes_io, **kw)\n"
     ]
    },
    {
     "data": {
      "image/png": "[encoded data removed]",
      "text/plain": [
       "<Figure size 1080x864 with 5 Axes>"
      ]
     },
     "metadata": {
      "needs_background": "light"
     },
     "output_type": "display_data"
    }
   ],
   "source": [
    "# A look at the distribution of the features after log transformation\n",
    "from matplotlib.gridspec import GridSpec\n",
    "\n",
    "gs = GridSpec(3,2)\n",
    "gs.update(wspace = 0.5, hspace = 0.5)\n",
    "fig = plt.figure(figsize=([15,12]), constrained_layout=True)\n",
    "\n",
    "# GP\n",
    "ax=plt.subplot(gs[0,0])\n",
    "ax=sns.distplot(rookie_yrs['log_GP'])\n",
    "plt.title('Histplot - log_GP')\n",
    "\n",
    "# MIN\n",
    "ax1=plt.subplot(gs[0,1])\n",
    "ax1=sns.distplot(rookie_yrs['log_MIN'])\n",
    "plt.title('Histplot - log_MIN')\n",
    "\n",
    "# PF\n",
    "ax2=plt.subplot(gs[1,0])\n",
    "ax2=sns.distplot(rookie_yrs['log_PF'])\n",
    "plt.title('Histplot - log_PF')\n",
    "\n",
    "# REB\n",
    "ax3=plt.subplot(gs[1,1])\n",
    "ax3=sns.distplot(rookie_yrs['log_REB'])\n",
    "plt.title('Histplot - log_REB')\n",
    "\n",
    "# PTS\n",
    "ax4=plt.subplot(gs[2,0])\n",
    "ax4=sns.distplot(rookie_yrs['log_PTS'])\n",
    "plt.title('Histplot - log_PTS')\n",
    "\n",
    "plt.show()"
   ]
  },
  {
   "cell_type": "markdown",
   "id": "fc316b8a",
   "metadata": {},
   "source": [
    "**Unfortunately, our previously left skewed distributions are very right skewed now.  Let's see if our scores benefit from the transformation.**"
   ]
  },
  {
   "cell_type": "code",
   "execution_count": 24,
   "id": "d86ab6a4",
   "metadata": {},
   "outputs": [],
   "source": [
    "# Use the log transformed features\n",
    "log_X = rookie_yrs.drop(columns=['PLAYER', 'TEAM', 'SEASON','TARGET_4UP', \n",
    "                                 'NUM_YRS', 'GP', 'PF', 'MIN', 'PTS', 'REB']) \n",
    "y = rookie_yrs['TARGET_4UP']\n",
    "\n",
    "# Partition dataset\n",
    "log_X_train, log_X_test, y_train, y_test = train_test_split(log_X, y, test_size=0.2, \n",
    "                                                    random_state=42, \n",
    "                                                    stratify=y)"
   ]
  },
  {
   "cell_type": "code",
   "execution_count": 9,
   "id": "70064916",
   "metadata": {},
   "outputs": [
    {
     "data": {
      "text/html": [
       "<div>\n",
       "<style scoped>\n",
       "    .dataframe tbody tr th:only-of-type {\n",
       "        vertical-align: middle;\n",
       "    }\n",
       "\n",
       "    .dataframe tbody tr th {\n",
       "        vertical-align: top;\n",
       "    }\n",
       "\n",
       "    .dataframe thead th {\n",
       "        text-align: right;\n",
       "    }\n",
       "</style>\n",
       "<table border=\"1\" class=\"dataframe\">\n",
       "  <thead>\n",
       "    <tr style=\"text-align: right;\">\n",
       "      <th></th>\n",
       "      <th>AGE</th>\n",
       "      <th>W</th>\n",
       "      <th>L</th>\n",
       "      <th>FG%</th>\n",
       "      <th>3P%</th>\n",
       "      <th>FT%</th>\n",
       "      <th>OREB</th>\n",
       "      <th>DREB</th>\n",
       "      <th>AST</th>\n",
       "      <th>TOV</th>\n",
       "      <th>STL</th>\n",
       "      <th>BLK</th>\n",
       "      <th>DD2</th>\n",
       "      <th>TD3</th>\n",
       "      <th>+/-</th>\n",
       "      <th>log_GP</th>\n",
       "      <th>log_PF</th>\n",
       "      <th>log_MIN</th>\n",
       "      <th>log_PTS</th>\n",
       "      <th>log_REB</th>\n",
       "    </tr>\n",
       "  </thead>\n",
       "  <tbody>\n",
       "    <tr>\n",
       "      <th>511</th>\n",
       "      <td>23</td>\n",
       "      <td>2</td>\n",
       "      <td>19</td>\n",
       "      <td>28.9</td>\n",
       "      <td>28.9</td>\n",
       "      <td>66.7</td>\n",
       "      <td>2</td>\n",
       "      <td>37</td>\n",
       "      <td>13</td>\n",
       "      <td>10</td>\n",
       "      <td>10</td>\n",
       "      <td>2</td>\n",
       "      <td>0</td>\n",
       "      <td>0</td>\n",
       "      <td>-75</td>\n",
       "      <td>3.044527</td>\n",
       "      <td>2.833219</td>\n",
       "      <td>5.489764</td>\n",
       "      <td>4.143136</td>\n",
       "      <td>3.663564</td>\n",
       "    </tr>\n",
       "    <tr>\n",
       "      <th>459</th>\n",
       "      <td>19</td>\n",
       "      <td>28</td>\n",
       "      <td>50</td>\n",
       "      <td>36.4</td>\n",
       "      <td>31.8</td>\n",
       "      <td>72.1</td>\n",
       "      <td>37</td>\n",
       "      <td>140</td>\n",
       "      <td>250</td>\n",
       "      <td>131</td>\n",
       "      <td>65</td>\n",
       "      <td>18</td>\n",
       "      <td>1</td>\n",
       "      <td>0</td>\n",
       "      <td>-100</td>\n",
       "      <td>4.356710</td>\n",
       "      <td>5.198498</td>\n",
       "      <td>7.441672</td>\n",
       "      <td>6.137727</td>\n",
       "      <td>5.176150</td>\n",
       "    </tr>\n",
       "    <tr>\n",
       "      <th>404</th>\n",
       "      <td>24</td>\n",
       "      <td>5</td>\n",
       "      <td>10</td>\n",
       "      <td>29.4</td>\n",
       "      <td>12.5</td>\n",
       "      <td>70.0</td>\n",
       "      <td>4</td>\n",
       "      <td>27</td>\n",
       "      <td>8</td>\n",
       "      <td>6</td>\n",
       "      <td>4</td>\n",
       "      <td>1</td>\n",
       "      <td>0</td>\n",
       "      <td>0</td>\n",
       "      <td>20</td>\n",
       "      <td>2.708057</td>\n",
       "      <td>2.397904</td>\n",
       "      <td>5.160779</td>\n",
       "      <td>3.663564</td>\n",
       "      <td>3.433990</td>\n",
       "    </tr>\n",
       "    <tr>\n",
       "      <th>1761</th>\n",
       "      <td>28</td>\n",
       "      <td>4</td>\n",
       "      <td>39</td>\n",
       "      <td>39.4</td>\n",
       "      <td>0.0</td>\n",
       "      <td>75.8</td>\n",
       "      <td>37</td>\n",
       "      <td>85</td>\n",
       "      <td>31</td>\n",
       "      <td>38</td>\n",
       "      <td>7</td>\n",
       "      <td>19</td>\n",
       "      <td>0</td>\n",
       "      <td>0</td>\n",
       "      <td>-197</td>\n",
       "      <td>3.761202</td>\n",
       "      <td>4.553878</td>\n",
       "      <td>6.395429</td>\n",
       "      <td>4.634730</td>\n",
       "      <td>4.804022</td>\n",
       "    </tr>\n",
       "    <tr>\n",
       "      <th>1855</th>\n",
       "      <td>24</td>\n",
       "      <td>4</td>\n",
       "      <td>1</td>\n",
       "      <td>33.3</td>\n",
       "      <td>0.0</td>\n",
       "      <td>0.0</td>\n",
       "      <td>3</td>\n",
       "      <td>4</td>\n",
       "      <td>0</td>\n",
       "      <td>3</td>\n",
       "      <td>1</td>\n",
       "      <td>0</td>\n",
       "      <td>0</td>\n",
       "      <td>0</td>\n",
       "      <td>-2</td>\n",
       "      <td>1.609458</td>\n",
       "      <td>1.609458</td>\n",
       "      <td>3.569536</td>\n",
       "      <td>1.791776</td>\n",
       "      <td>1.945924</td>\n",
       "    </tr>\n",
       "  </tbody>\n",
       "</table>\n",
       "</div>"
      ],
      "text/plain": [
       "      AGE   W   L   FG%   3P%   FT%  OREB  DREB  AST  TOV  STL  BLK  DD2  TD3  \\\n",
       "511    23   2  19  28.9  28.9  66.7     2    37   13   10   10    2    0    0   \n",
       "459    19  28  50  36.4  31.8  72.1    37   140  250  131   65   18    1    0   \n",
       "404    24   5  10  29.4  12.5  70.0     4    27    8    6    4    1    0    0   \n",
       "1761   28   4  39  39.4   0.0  75.8    37    85   31   38    7   19    0    0   \n",
       "1855   24   4   1  33.3   0.0   0.0     3     4    0    3    1    0    0    0   \n",
       "\n",
       "      +/-    log_GP    log_PF   log_MIN   log_PTS   log_REB  \n",
       "511   -75  3.044527  2.833219  5.489764  4.143136  3.663564  \n",
       "459  -100  4.356710  5.198498  7.441672  6.137727  5.176150  \n",
       "404    20  2.708057  2.397904  5.160779  3.663564  3.433990  \n",
       "1761 -197  3.761202  4.553878  6.395429  4.634730  4.804022  \n",
       "1855   -2  1.609458  1.609458  3.569536  1.791776  1.945924  "
      ]
     },
     "execution_count": 9,
     "metadata": {},
     "output_type": "execute_result"
    }
   ],
   "source": [
    "log_X_train.head()"
   ]
  },
  {
   "cell_type": "code",
   "execution_count": 25,
   "id": "4b91002d",
   "metadata": {},
   "outputs": [],
   "source": [
    "# Resample our log transformed dataset\n",
    "# Randomly oversample positives\n",
    "ros = RandomOverSampler(random_state=42)\n",
    "\n",
    "log_X_train_ros, y_train_ros = ros.fit_resample(log_X_train, y_train)"
   ]
  },
  {
   "cell_type": "code",
   "execution_count": 26,
   "id": "c9fece6d",
   "metadata": {},
   "outputs": [
    {
     "name": "stdout",
     "output_type": "stream",
     "text": [
      "Summary of Log-Transformed Features + Resampled Dataset Scores: \n",
      "\n",
      "\n",
      "Logistic regression (all-F) mean scores: \n",
      "Accuracy: 0.744 +- 0.011\n",
      "Precision: 0.755 +- 0.018\n",
      "Recall: 0.722 +- 0.021\n",
      "F1: 0.738 +- 0.011\n",
      "ROC-AUC: 0.826 +- 0.008\n",
      "\n",
      "\n",
      "kNN mean scores: \n",
      "Accuracy: 0.713 +- 0.014\n",
      "Precision: 0.749 +- 0.023\n",
      "Recall: 0.641 +- 0.012\n",
      "F1: 0.691 +- 0.013\n",
      "ROC-AUC: 0.783 +- 0.008\n",
      "\n",
      "\n",
      "Gaussian NB (all-F) mean scores: \n",
      "Accuracy: 0.735 +- 0.014\n",
      "Precision: 0.759 +- 0.013\n",
      "Recall: 0.690 +- 0.026\n",
      "F1: 0.723 +- 0.017\n",
      "ROC-AUC: 0.806 +- 0.016\n",
      "\n",
      "\n",
      "Decision Tree mean scores: \n",
      "Accuracy: 0.742 +- 0.001\n",
      "Precision: 0.723 +- 0.003\n",
      "Recall: 0.786 +- 0.007\n",
      "F1: 0.753 +- 0.002\n",
      "ROC-AUC: 0.742 +- 0.001\n",
      "\n",
      "\n",
      "Random Forest mean scores: \n",
      "Accuracy: 0.813 +- 0.020\n",
      "Precision: 0.800 +- 0.021\n",
      "Recall: 0.818 +- 0.014\n",
      "F1: 0.814 +- 0.012\n",
      "ROC-AUC: 0.891 +- 0.008\n",
      "\n",
      "\n",
      "XGBoost mean scores: \n",
      "Accuracy: 0.803 +- 0.025\n",
      "Precision: 0.791 +- 0.037\n",
      "Recall: 0.826 +- 0.003\n",
      "F1: 0.808 +- 0.020\n",
      "ROC-AUC: 0.875 +- 0.013\n"
     ]
    }
   ],
   "source": [
    "# Score with log transformed features + resampled dataset\n",
    "print(\"Summary of Log-Transformed Features + Resampled Dataset Scores: \")\n",
    "\n",
    "print('\\n')\n",
    "\n",
    "# Logistic Regression with ALL-Feature Input\n",
    "# Scale features\n",
    "log_X_train_ros_scaled = std_scale.fit_transform(log_X_train_ros)\n",
    "\n",
    "print(\"Logistic regression (all-F) mean scores: \")\n",
    "score_metrics(model=lr, X_train=log_X_train_ros_scaled, y_train=y_train_ros)\n",
    "\n",
    "print('\\n')\n",
    "\n",
    "# kNN\n",
    "print(\"kNN mean scores: \")\n",
    "score_metrics(model=knn, X_train=log_X_train_ros, y_train=y_train_ros)\n",
    "\n",
    "print('\\n')\n",
    "\n",
    "print(\"Gaussian NB (all-F) mean scores: \")\n",
    "score_metrics(model=nb, X_train=log_X_train_ros, y_train=y_train_ros)\n",
    "\n",
    "print('\\n')\n",
    "\n",
    "# Decision Tree\n",
    "print(\"Decision Tree mean scores: \")\n",
    "score_metrics(model=clf, X_train=log_X_train_ros, y_train=y_train_ros)\n",
    "\n",
    "print('\\n')\n",
    "\n",
    "# Random Forest\n",
    "print(\"Random Forest mean scores: \")\n",
    "score_metrics(model=rf, X_train=log_X_train_ros, y_train=y_train_ros)\n",
    "\n",
    "print('\\n')\n",
    "\n",
    "print(\"XGBoost mean scores: \")\n",
    "score_metrics(model=xgb, X_train=log_X_train_ros, y_train=y_train_ros)"
   ]
  },
  {
   "cell_type": "markdown",
   "id": "367693b4",
   "metadata": {},
   "source": [
    "**After log transformation of the features, we would expect for the Gaussian NB and/or logistic regression models to benefit the most, as they are predicated on normal distribution of their features.**"
   ]
  },
  {
   "cell_type": "code",
   "execution_count": 17,
   "id": "69abf5f5",
   "metadata": {},
   "outputs": [
    {
     "name": "stdout",
     "output_type": "stream",
     "text": [
      "Gaussian NB mean scores - Resampled w/o Log Transformation: \n",
      "Accuracy: 0.722 +- 0.020\n",
      "Precision: 0.807 +- 0.020\n",
      "Recall: 0.585 +- 0.032\n",
      "F1: 0.678 +- 0.027\n",
      "ROC-AUC: 0.806 +- 0.016\n",
      "\n",
      "\n",
      "Gaussian NB mean scores - Resampled w Log Transformation: \n",
      "Accuracy: 0.735 +- 0.014\n",
      "Precision: 0.759 +- 0.013\n",
      "Recall: 0.690 +- 0.026\n",
      "F1: 0.723 +- 0.017\n",
      "ROC-AUC: 0.806 +- 0.016\n"
     ]
    }
   ],
   "source": [
    "print(\"Gaussian NB mean scores - Resampled w/o Log Transformation: \")\n",
    "score_metrics(model=nb, X_train=X_train_ros, y_train=y_train_ros)\n",
    "print('\\n')\n",
    "print(\"Gaussian NB mean scores - Resampled w Log Transformation: \")\n",
    "score_metrics(model=nb, X_train=log_X_train_ros, y_train=y_train_ros)"
   ]
  },
  {
   "cell_type": "markdown",
   "id": "34bab807",
   "metadata": {},
   "source": [
    "**Although there is a sacrifice in precision, the recall and F1 scores both rose nicely in the Gaussian models!**"
   ]
  },
  {
   "cell_type": "code",
   "execution_count": 117,
   "id": "298338de",
   "metadata": {},
   "outputs": [
    {
     "name": "stdout",
     "output_type": "stream",
     "text": [
      "Logistic regression mean scores - Resampled w/o Log Transformation: \n",
      "Accuracy: 0.742 +- 0.014\n",
      "Precision: 0.754 +- 0.019\n",
      "Recall: 0.718 +- 0.019\n",
      "F1: 0.735 +- 0.014\n",
      "ROC-AUC: 0.829 +- 0.009\n",
      "\n",
      "\n",
      "Logistic regression mean scores - Resampled w Log Transformation: \n",
      "Accuracy: 0.744 +- 0.011\n",
      "Precision: 0.755 +- 0.018\n",
      "Recall: 0.722 +- 0.021\n",
      "F1: 0.738 +- 0.011\n",
      "ROC-AUC: 0.826 +- 0.008\n"
     ]
    }
   ],
   "source": [
    "print(\"Logistic regression mean scores - Resampled w/o Log Transformation: \")\n",
    "score_metrics(model=lr, X_train=X_train_all_ros_scaled, y_train=y_train_ros)\n",
    "print('\\n')\n",
    "print(\"Logistic regression mean scores - Resampled w Log Transformation: \")\n",
    "score_metrics(model=lr, X_train=log_X_train_ros_scaled, y_train=y_train_ros)"
   ]
  },
  {
   "cell_type": "markdown",
   "id": "7faaa606",
   "metadata": {},
   "source": [
    "**As for logistic regression, there wasn't much benefit from the log transformation of the features.**"
   ]
  },
  {
   "cell_type": "markdown",
   "id": "ff0a6258",
   "metadata": {},
   "source": [
    "# Tuning Hyperparameters"
   ]
  },
  {
   "cell_type": "markdown",
   "id": "4c8505ba",
   "metadata": {},
   "source": [
    "So far, our highest scores come from the **Random Forest** model.  Log-transformation of features didn't do much for this model; in contrast, the F1 score decreased slightly.  We could choose to omit the log transformation if we are going to designate Random Forest as our final model.  Let's focus on tuning the hyperparameters to find the optimal values that will maximize performance, minimize loss, and eliminate the overfitting for Random Forest."
   ]
  },
  {
   "cell_type": "code",
   "execution_count": 158,
   "id": "a2dc392a",
   "metadata": {},
   "outputs": [
    {
     "name": "stdout",
     "output_type": "stream",
     "text": [
      "Random Forest Baseline mean scores: \n",
      "Accuracy: 0.739 +- 0.015\n",
      "Precision: 0.725 +- 0.031\n",
      "Recall: 0.622 +- 0.035\n",
      "F1: 0.662 +- 0.019\n",
      "ROC-AUC: 0.808 +- 0.004\n",
      "\n",
      "\n",
      "Random Forest (Resampled) mean scores: \n",
      "Accuracy: 0.812 +- 0.014\n",
      "Precision: 0.802 +- 0.025\n",
      "Recall: 0.821 +- 0.019\n",
      "F1: 0.816 +- 0.012\n",
      "ROC-AUC: 0.893 +- 0.009\n",
      "\n",
      "\n",
      "Random Forest (Log-Transformed, Resampled) mean scores: \n",
      "Accuracy: 0.810 +- 0.017\n",
      "Precision: 0.808 +- 0.015\n",
      "Recall: 0.822 +- 0.014\n",
      "F1: 0.814 +- 0.017\n",
      "ROC-AUC: 0.892 +- 0.010\n"
     ]
    }
   ],
   "source": [
    "# Baseline\n",
    "print(\"Random Forest Baseline mean scores: \")\n",
    "random_forest_scores = score_metrics(model=rf, X_train=X_train, y_train=y_train)\n",
    "\n",
    "print('\\n')\n",
    "\n",
    "# Random Forest\n",
    "print(\"Random Forest (Resampled) mean scores: \")\n",
    "score_metrics(model=rf, X_train=X_train_ros, y_train=y_train_ros)\n",
    "\n",
    "print('\\n')\n",
    "\n",
    "# Log-Transformed, resampled\n",
    "print(\"Random Forest (Log-Transformed, Resampled) mean scores: \")\n",
    "score_metrics(model=rf, X_train=log_X_train_ros, y_train=y_train_ros)"
   ]
  },
  {
   "cell_type": "markdown",
   "id": "eb8f76e4",
   "metadata": {},
   "source": [
    "**We'll first use RandomisedSearchCV to find the best set of parameters by randomly selecting from a pre-defined grid.  Then we will use GridSearchCV to narrow down on the range to search for the perfect hyperparameters.**"
   ]
  },
  {
   "cell_type": "code",
   "execution_count": 10,
   "id": "db472290",
   "metadata": {},
   "outputs": [],
   "source": [
    "\"\"\"\n",
    "Try out a wide range of values and see what works\n",
    "\"\"\"\n",
    "\n",
    "# Number of trees in random forest\n",
    "n_estimators = [int(x) for x in np.linspace(start=200, stop=2000, num=10)]\n",
    "# Number of features to consider at every split\n",
    "max_features = ['auto', 'sqrt']\n",
    "# Max number of levels in tree\n",
    "max_depth = [int(x) for x in np.linspace(10, 110, num=11)]\n",
    "# Min number of samples required to split a node\n",
    "min_samples_split= [2,5,10]\n",
    "# Min number of samples required at each leaf node\n",
    "min_samples_leaf = [1, 2, 4]\n",
    "# Method of selecting samples for training each tree\n",
    "bootstrap = [True, False]\n",
    "# Used to meature quality of splits\n",
    "criterion = ['gini', 'entropy']\n",
    "\n",
    "# Create random grid\n",
    "random_grid = {'n_estimators': n_estimators,\n",
    "              'max_depth': max_depth,\n",
    "               'min_samples_split': min_samples_split,\n",
    "              'min_samples_leaf': min_samples_leaf,\n",
    "              'bootstrap': bootstrap,\n",
    "              'criterion': criterion}"
   ]
  },
  {
   "cell_type": "code",
   "execution_count": 11,
   "id": "2bdf795e",
   "metadata": {},
   "outputs": [],
   "source": [
    "# Instantiate the model\n",
    "rf = RandomForestClassifier()\n",
    "\n",
    "rf_random_search = RandomizedSearchCV(estimator=rf, \n",
    "                                   param_distributions=random_grid, \n",
    "                                   cv=5,\n",
    "                                   verbose=2, \n",
    "                                   random_state=42, \n",
    "                                   n_jobs=-1, \n",
    "                                     scoring='f1')"
   ]
  },
  {
   "cell_type": "code",
   "execution_count": 12,
   "id": "8e801a7b",
   "metadata": {},
   "outputs": [
    {
     "name": "stdout",
     "output_type": "stream",
     "text": [
      "Fitting 5 folds for each of 10 candidates, totalling 50 fits\n"
     ]
    },
    {
     "data": {
      "text/html": [
       "<style>#sk-container-id-1 {color: black;background-color: white;}#sk-container-id-1 pre{padding: 0;}#sk-container-id-1 div.sk-toggleable {background-color: white;}#sk-container-id-1 label.sk-toggleable__label {cursor: pointer;display: block;width: 100%;margin-bottom: 0;padding: 0.3em;box-sizing: border-box;text-align: center;}#sk-container-id-1 label.sk-toggleable__label-arrow:before {content: \"▸\";float: left;margin-right: 0.25em;color: #696969;}#sk-container-id-1 label.sk-toggleable__label-arrow:hover:before {color: black;}#sk-container-id-1 div.sk-estimator:hover label.sk-toggleable__label-arrow:before {color: black;}#sk-container-id-1 div.sk-toggleable__content {max-height: 0;max-width: 0;overflow: hidden;text-align: left;background-color: #f0f8ff;}#sk-container-id-1 div.sk-toggleable__content pre {margin: 0.2em;color: black;border-radius: 0.25em;background-color: #f0f8ff;}#sk-container-id-1 input.sk-toggleable__control:checked~div.sk-toggleable__content {max-height: 200px;max-width: 100%;overflow: auto;}#sk-container-id-1 input.sk-toggleable__control:checked~label.sk-toggleable__label-arrow:before {content: \"▾\";}#sk-container-id-1 div.sk-estimator input.sk-toggleable__control:checked~label.sk-toggleable__label {background-color: #d4ebff;}#sk-container-id-1 div.sk-label input.sk-toggleable__control:checked~label.sk-toggleable__label {background-color: #d4ebff;}#sk-container-id-1 input.sk-hidden--visually {border: 0;clip: rect(1px 1px 1px 1px);clip: rect(1px, 1px, 1px, 1px);height: 1px;margin: -1px;overflow: hidden;padding: 0;position: absolute;width: 1px;}#sk-container-id-1 div.sk-estimator {font-family: monospace;background-color: #f0f8ff;border: 1px dotted black;border-radius: 0.25em;box-sizing: border-box;margin-bottom: 0.5em;}#sk-container-id-1 div.sk-estimator:hover {background-color: #d4ebff;}#sk-container-id-1 div.sk-parallel-item::after {content: \"\";width: 100%;border-bottom: 1px solid gray;flex-grow: 1;}#sk-container-id-1 div.sk-label:hover label.sk-toggleable__label {background-color: #d4ebff;}#sk-container-id-1 div.sk-serial::before {content: \"\";position: absolute;border-left: 1px solid gray;box-sizing: border-box;top: 0;bottom: 0;left: 50%;z-index: 0;}#sk-container-id-1 div.sk-serial {display: flex;flex-direction: column;align-items: center;background-color: white;padding-right: 0.2em;padding-left: 0.2em;position: relative;}#sk-container-id-1 div.sk-item {position: relative;z-index: 1;}#sk-container-id-1 div.sk-parallel {display: flex;align-items: stretch;justify-content: center;background-color: white;position: relative;}#sk-container-id-1 div.sk-item::before, #sk-container-id-1 div.sk-parallel-item::before {content: \"\";position: absolute;border-left: 1px solid gray;box-sizing: border-box;top: 0;bottom: 0;left: 50%;z-index: -1;}#sk-container-id-1 div.sk-parallel-item {display: flex;flex-direction: column;z-index: 1;position: relative;background-color: white;}#sk-container-id-1 div.sk-parallel-item:first-child::after {align-self: flex-end;width: 50%;}#sk-container-id-1 div.sk-parallel-item:last-child::after {align-self: flex-start;width: 50%;}#sk-container-id-1 div.sk-parallel-item:only-child::after {width: 0;}#sk-container-id-1 div.sk-dashed-wrapped {border: 1px dashed gray;margin: 0 0.4em 0.5em 0.4em;box-sizing: border-box;padding-bottom: 0.4em;background-color: white;}#sk-container-id-1 div.sk-label label {font-family: monospace;font-weight: bold;display: inline-block;line-height: 1.2em;}#sk-container-id-1 div.sk-label-container {text-align: center;}#sk-container-id-1 div.sk-container {/* jupyter's `normalize.less` sets `[hidden] { display: none; }` but bootstrap.min.css set `[hidden] { display: none !important; }` so we also need the `!important` here to be able to override the default hidden behavior on the sphinx rendered scikit-learn.org. See: https://github.com/scikit-learn/scikit-learn/issues/21755 */display: inline-block !important;position: relative;}#sk-container-id-1 div.sk-text-repr-fallback {display: none;}</style><div id=\"sk-container-id-1\" class=\"sk-top-container\"><div class=\"sk-text-repr-fallback\"><pre>RandomizedSearchCV(cv=5, estimator=RandomForestClassifier(), n_jobs=-1,\n",
       "                   param_distributions={&#x27;bootstrap&#x27;: [True, False],\n",
       "                                        &#x27;criterion&#x27;: [&#x27;gini&#x27;, &#x27;entropy&#x27;],\n",
       "                                        &#x27;max_depth&#x27;: [10, 20, 30, 40, 50, 60,\n",
       "                                                      70, 80, 90, 100, 110],\n",
       "                                        &#x27;min_samples_leaf&#x27;: [1, 2, 4],\n",
       "                                        &#x27;min_samples_split&#x27;: [2, 5, 10],\n",
       "                                        &#x27;n_estimators&#x27;: [200, 400, 600, 800,\n",
       "                                                         1000, 1200, 1400, 1600,\n",
       "                                                         1800, 2000]},\n",
       "                   random_state=42, scoring=&#x27;f1&#x27;, verbose=2)</pre><b>In a Jupyter environment, please rerun this cell to show the HTML representation or trust the notebook. <br />On GitHub, the HTML representation is unable to render, please try loading this page with nbviewer.org.</b></div><div class=\"sk-container\" hidden><div class=\"sk-item sk-dashed-wrapped\"><div class=\"sk-label-container\"><div class=\"sk-label sk-toggleable\"><input class=\"sk-toggleable__control sk-hidden--visually\" id=\"sk-estimator-id-1\" type=\"checkbox\" ><label for=\"sk-estimator-id-1\" class=\"sk-toggleable__label sk-toggleable__label-arrow\">RandomizedSearchCV</label><div class=\"sk-toggleable__content\"><pre>RandomizedSearchCV(cv=5, estimator=RandomForestClassifier(), n_jobs=-1,\n",
       "                   param_distributions={&#x27;bootstrap&#x27;: [True, False],\n",
       "                                        &#x27;criterion&#x27;: [&#x27;gini&#x27;, &#x27;entropy&#x27;],\n",
       "                                        &#x27;max_depth&#x27;: [10, 20, 30, 40, 50, 60,\n",
       "                                                      70, 80, 90, 100, 110],\n",
       "                                        &#x27;min_samples_leaf&#x27;: [1, 2, 4],\n",
       "                                        &#x27;min_samples_split&#x27;: [2, 5, 10],\n",
       "                                        &#x27;n_estimators&#x27;: [200, 400, 600, 800,\n",
       "                                                         1000, 1200, 1400, 1600,\n",
       "                                                         1800, 2000]},\n",
       "                   random_state=42, scoring=&#x27;f1&#x27;, verbose=2)</pre></div></div></div><div class=\"sk-parallel\"><div class=\"sk-parallel-item\"><div class=\"sk-item\"><div class=\"sk-label-container\"><div class=\"sk-label sk-toggleable\"><input class=\"sk-toggleable__control sk-hidden--visually\" id=\"sk-estimator-id-2\" type=\"checkbox\" ><label for=\"sk-estimator-id-2\" class=\"sk-toggleable__label sk-toggleable__label-arrow\">estimator: RandomForestClassifier</label><div class=\"sk-toggleable__content\"><pre>RandomForestClassifier()</pre></div></div></div><div class=\"sk-serial\"><div class=\"sk-item\"><div class=\"sk-estimator sk-toggleable\"><input class=\"sk-toggleable__control sk-hidden--visually\" id=\"sk-estimator-id-3\" type=\"checkbox\" ><label for=\"sk-estimator-id-3\" class=\"sk-toggleable__label sk-toggleable__label-arrow\">RandomForestClassifier</label><div class=\"sk-toggleable__content\"><pre>RandomForestClassifier()</pre></div></div></div></div></div></div></div></div></div></div>"
      ],
      "text/plain": [
       "RandomizedSearchCV(cv=5, estimator=RandomForestClassifier(), n_jobs=-1,\n",
       "                   param_distributions={'bootstrap': [True, False],\n",
       "                                        'criterion': ['gini', 'entropy'],\n",
       "                                        'max_depth': [10, 20, 30, 40, 50, 60,\n",
       "                                                      70, 80, 90, 100, 110],\n",
       "                                        'min_samples_leaf': [1, 2, 4],\n",
       "                                        'min_samples_split': [2, 5, 10],\n",
       "                                        'n_estimators': [200, 400, 600, 800,\n",
       "                                                         1000, 1200, 1400, 1600,\n",
       "                                                         1800, 2000]},\n",
       "                   random_state=42, scoring='f1', verbose=2)"
      ]
     },
     "execution_count": 12,
     "metadata": {},
     "output_type": "execute_result"
    }
   ],
   "source": [
    "rf_random_search.fit(X_train_ros, y_train_ros) # No log transformation of features"
   ]
  },
  {
   "cell_type": "code",
   "execution_count": 13,
   "id": "7da3f840",
   "metadata": {},
   "outputs": [
    {
     "data": {
      "text/plain": [
       "{'n_estimators': 1800,\n",
       " 'min_samples_split': 5,\n",
       " 'min_samples_leaf': 1,\n",
       " 'max_depth': 80,\n",
       " 'criterion': 'entropy',\n",
       " 'bootstrap': True}"
      ]
     },
     "execution_count": 13,
     "metadata": {},
     "output_type": "execute_result"
    }
   ],
   "source": [
    "# Best parameters from random search, no log transformation\n",
    "rf_random_search.best_params_"
   ]
  },
  {
   "cell_type": "code",
   "execution_count": 14,
   "id": "1fbb76e2",
   "metadata": {},
   "outputs": [
    {
     "name": "stdout",
     "output_type": "stream",
     "text": [
      "Best F1 score (no log):  0.8044607572703695\n"
     ]
    }
   ],
   "source": [
    "# Best F1 score (RandomizedSearch), no log transformation\n",
    "print(\"Best F1 score (no log): \", rf_random_search.best_score_)"
   ]
  },
  {
   "cell_type": "code",
   "execution_count": 32,
   "id": "c3b64acf",
   "metadata": {},
   "outputs": [
    {
     "name": "stdout",
     "output_type": "stream",
     "text": [
      "Fitting 5 folds for each of 10 candidates, totalling 50 fits\n"
     ]
    },
    {
     "name": "stderr",
     "output_type": "stream",
     "text": [
      "C:\\Users\\sandr\\anaconda3\\envs\\metis\\lib\\site-packages\\sklearn\\ensemble\\_forest.py:427: FutureWarning: `max_features='auto'` has been deprecated in 1.1 and will be removed in 1.3. To keep the past behaviour, explicitly set `max_features='sqrt'` or remove this parameter as it is also the default value for RandomForestClassifiers and ExtraTreesClassifiers.\n",
      "  warn(\n"
     ]
    },
    {
     "data": {
      "text/html": [
       "<style>#sk-container-id-3 {color: black;background-color: white;}#sk-container-id-3 pre{padding: 0;}#sk-container-id-3 div.sk-toggleable {background-color: white;}#sk-container-id-3 label.sk-toggleable__label {cursor: pointer;display: block;width: 100%;margin-bottom: 0;padding: 0.3em;box-sizing: border-box;text-align: center;}#sk-container-id-3 label.sk-toggleable__label-arrow:before {content: \"▸\";float: left;margin-right: 0.25em;color: #696969;}#sk-container-id-3 label.sk-toggleable__label-arrow:hover:before {color: black;}#sk-container-id-3 div.sk-estimator:hover label.sk-toggleable__label-arrow:before {color: black;}#sk-container-id-3 div.sk-toggleable__content {max-height: 0;max-width: 0;overflow: hidden;text-align: left;background-color: #f0f8ff;}#sk-container-id-3 div.sk-toggleable__content pre {margin: 0.2em;color: black;border-radius: 0.25em;background-color: #f0f8ff;}#sk-container-id-3 input.sk-toggleable__control:checked~div.sk-toggleable__content {max-height: 200px;max-width: 100%;overflow: auto;}#sk-container-id-3 input.sk-toggleable__control:checked~label.sk-toggleable__label-arrow:before {content: \"▾\";}#sk-container-id-3 div.sk-estimator input.sk-toggleable__control:checked~label.sk-toggleable__label {background-color: #d4ebff;}#sk-container-id-3 div.sk-label input.sk-toggleable__control:checked~label.sk-toggleable__label {background-color: #d4ebff;}#sk-container-id-3 input.sk-hidden--visually {border: 0;clip: rect(1px 1px 1px 1px);clip: rect(1px, 1px, 1px, 1px);height: 1px;margin: -1px;overflow: hidden;padding: 0;position: absolute;width: 1px;}#sk-container-id-3 div.sk-estimator {font-family: monospace;background-color: #f0f8ff;border: 1px dotted black;border-radius: 0.25em;box-sizing: border-box;margin-bottom: 0.5em;}#sk-container-id-3 div.sk-estimator:hover {background-color: #d4ebff;}#sk-container-id-3 div.sk-parallel-item::after {content: \"\";width: 100%;border-bottom: 1px solid gray;flex-grow: 1;}#sk-container-id-3 div.sk-label:hover label.sk-toggleable__label {background-color: #d4ebff;}#sk-container-id-3 div.sk-serial::before {content: \"\";position: absolute;border-left: 1px solid gray;box-sizing: border-box;top: 0;bottom: 0;left: 50%;z-index: 0;}#sk-container-id-3 div.sk-serial {display: flex;flex-direction: column;align-items: center;background-color: white;padding-right: 0.2em;padding-left: 0.2em;position: relative;}#sk-container-id-3 div.sk-item {position: relative;z-index: 1;}#sk-container-id-3 div.sk-parallel {display: flex;align-items: stretch;justify-content: center;background-color: white;position: relative;}#sk-container-id-3 div.sk-item::before, #sk-container-id-3 div.sk-parallel-item::before {content: \"\";position: absolute;border-left: 1px solid gray;box-sizing: border-box;top: 0;bottom: 0;left: 50%;z-index: -1;}#sk-container-id-3 div.sk-parallel-item {display: flex;flex-direction: column;z-index: 1;position: relative;background-color: white;}#sk-container-id-3 div.sk-parallel-item:first-child::after {align-self: flex-end;width: 50%;}#sk-container-id-3 div.sk-parallel-item:last-child::after {align-self: flex-start;width: 50%;}#sk-container-id-3 div.sk-parallel-item:only-child::after {width: 0;}#sk-container-id-3 div.sk-dashed-wrapped {border: 1px dashed gray;margin: 0 0.4em 0.5em 0.4em;box-sizing: border-box;padding-bottom: 0.4em;background-color: white;}#sk-container-id-3 div.sk-label label {font-family: monospace;font-weight: bold;display: inline-block;line-height: 1.2em;}#sk-container-id-3 div.sk-label-container {text-align: center;}#sk-container-id-3 div.sk-container {/* jupyter's `normalize.less` sets `[hidden] { display: none; }` but bootstrap.min.css set `[hidden] { display: none !important; }` so we also need the `!important` here to be able to override the default hidden behavior on the sphinx rendered scikit-learn.org. See: https://github.com/scikit-learn/scikit-learn/issues/21755 */display: inline-block !important;position: relative;}#sk-container-id-3 div.sk-text-repr-fallback {display: none;}</style><div id=\"sk-container-id-3\" class=\"sk-top-container\"><div class=\"sk-text-repr-fallback\"><pre>RandomizedSearchCV(cv=5, estimator=RandomForestClassifier(), n_jobs=-1,\n",
       "                   param_distributions={&#x27;bootstrap&#x27;: [True, False],\n",
       "                                        &#x27;criterion&#x27;: [&#x27;gini&#x27;, &#x27;entropy&#x27;],\n",
       "                                        &#x27;max_depth&#x27;: [10, 20, 30, 40, 50, 60,\n",
       "                                                      70, 80, 90, 100, 110],\n",
       "                                        &#x27;max_features&#x27;: [&#x27;auto&#x27;, &#x27;sqrt&#x27;],\n",
       "                                        &#x27;min_samples_leaf&#x27;: [1, 2, 4],\n",
       "                                        &#x27;min_samples_split&#x27;: [2, 5, 10],\n",
       "                                        &#x27;n_estimators&#x27;: [200, 400, 600, 800,\n",
       "                                                         1000, 1200, 1400, 1600,\n",
       "                                                         1800, 2000]},\n",
       "                   random_state=42, scoring=&#x27;f1&#x27;, verbose=2)</pre><b>In a Jupyter environment, please rerun this cell to show the HTML representation or trust the notebook. <br />On GitHub, the HTML representation is unable to render, please try loading this page with nbviewer.org.</b></div><div class=\"sk-container\" hidden><div class=\"sk-item sk-dashed-wrapped\"><div class=\"sk-label-container\"><div class=\"sk-label sk-toggleable\"><input class=\"sk-toggleable__control sk-hidden--visually\" id=\"sk-estimator-id-5\" type=\"checkbox\" ><label for=\"sk-estimator-id-5\" class=\"sk-toggleable__label sk-toggleable__label-arrow\">RandomizedSearchCV</label><div class=\"sk-toggleable__content\"><pre>RandomizedSearchCV(cv=5, estimator=RandomForestClassifier(), n_jobs=-1,\n",
       "                   param_distributions={&#x27;bootstrap&#x27;: [True, False],\n",
       "                                        &#x27;criterion&#x27;: [&#x27;gini&#x27;, &#x27;entropy&#x27;],\n",
       "                                        &#x27;max_depth&#x27;: [10, 20, 30, 40, 50, 60,\n",
       "                                                      70, 80, 90, 100, 110],\n",
       "                                        &#x27;max_features&#x27;: [&#x27;auto&#x27;, &#x27;sqrt&#x27;],\n",
       "                                        &#x27;min_samples_leaf&#x27;: [1, 2, 4],\n",
       "                                        &#x27;min_samples_split&#x27;: [2, 5, 10],\n",
       "                                        &#x27;n_estimators&#x27;: [200, 400, 600, 800,\n",
       "                                                         1000, 1200, 1400, 1600,\n",
       "                                                         1800, 2000]},\n",
       "                   random_state=42, scoring=&#x27;f1&#x27;, verbose=2)</pre></div></div></div><div class=\"sk-parallel\"><div class=\"sk-parallel-item\"><div class=\"sk-item\"><div class=\"sk-label-container\"><div class=\"sk-label sk-toggleable\"><input class=\"sk-toggleable__control sk-hidden--visually\" id=\"sk-estimator-id-6\" type=\"checkbox\" ><label for=\"sk-estimator-id-6\" class=\"sk-toggleable__label sk-toggleable__label-arrow\">estimator: RandomForestClassifier</label><div class=\"sk-toggleable__content\"><pre>RandomForestClassifier()</pre></div></div></div><div class=\"sk-serial\"><div class=\"sk-item\"><div class=\"sk-estimator sk-toggleable\"><input class=\"sk-toggleable__control sk-hidden--visually\" id=\"sk-estimator-id-7\" type=\"checkbox\" ><label for=\"sk-estimator-id-7\" class=\"sk-toggleable__label sk-toggleable__label-arrow\">RandomForestClassifier</label><div class=\"sk-toggleable__content\"><pre>RandomForestClassifier()</pre></div></div></div></div></div></div></div></div></div></div>"
      ],
      "text/plain": [
       "RandomizedSearchCV(cv=5, estimator=RandomForestClassifier(), n_jobs=-1,\n",
       "                   param_distributions={'bootstrap': [True, False],\n",
       "                                        'criterion': ['gini', 'entropy'],\n",
       "                                        'max_depth': [10, 20, 30, 40, 50, 60,\n",
       "                                                      70, 80, 90, 100, 110],\n",
       "                                        'max_features': ['auto', 'sqrt'],\n",
       "                                        'min_samples_leaf': [1, 2, 4],\n",
       "                                        'min_samples_split': [2, 5, 10],\n",
       "                                        'n_estimators': [200, 400, 600, 800,\n",
       "                                                         1000, 1200, 1400, 1600,\n",
       "                                                         1800, 2000]},\n",
       "                   random_state=42, scoring='f1', verbose=2)"
      ]
     },
     "execution_count": 32,
     "metadata": {},
     "output_type": "execute_result"
    }
   ],
   "source": [
    "rf_random_search.fit(log_X_train_ros, y_train_ros) # Log transformation of features "
   ]
  },
  {
   "cell_type": "code",
   "execution_count": 33,
   "id": "a476ab39",
   "metadata": {},
   "outputs": [
    {
     "data": {
      "text/plain": [
       "{'n_estimators': 1400,\n",
       " 'min_samples_split': 2,\n",
       " 'min_samples_leaf': 1,\n",
       " 'max_features': 'auto',\n",
       " 'max_depth': 80,\n",
       " 'criterion': 'gini',\n",
       " 'bootstrap': False}"
      ]
     },
     "execution_count": 33,
     "metadata": {},
     "output_type": "execute_result"
    }
   ],
   "source": [
    "# Best parameters from random search, log-transformed\n",
    "rf_random_search.best_params_"
   ]
  },
  {
   "cell_type": "code",
   "execution_count": 34,
   "id": "df7c4e57",
   "metadata": {},
   "outputs": [
    {
     "name": "stdout",
     "output_type": "stream",
     "text": [
      "Best F1 score:  0.80515298499471\n"
     ]
    }
   ],
   "source": [
    "# Best F1 score (RandomizedSearch), log transformation\n",
    "print(\"Best F1 score: \", rf_random_search.best_score_)"
   ]
  },
  {
   "cell_type": "markdown",
   "id": "9c9ed685",
   "metadata": {},
   "source": [
    "**Since F1 scores with and without log transformation of features are insignificantly different, we'll choose not to include the log-transformed features to simplify the model.  Now, let's concentrate our search using GridSearchCV.**"
   ]
  },
  {
   "cell_type": "code",
   "execution_count": 16,
   "id": "b9c8f9dd",
   "metadata": {},
   "outputs": [],
   "source": [
    "# Create parameter grid based on results of random search\n",
    "gs_n_estimators = [int(x) for x in np.linspace(start=1700, stop=1900, num=10)]\n",
    "gs_min_samples_split= [2,5,10]\n",
    "gs_min_samples_leaf = [1, 2]\n",
    "gs_max_depth = [70, 80, 90]\n",
    "gs_bootstrap = [True]\n",
    "# gs_criterion = ['gini', 'entropy']\n",
    "\n",
    "gs_grid = {'n_estimators': gs_n_estimators,\n",
    "              'max_depth': gs_max_depth,\n",
    "               'min_samples_split': gs_min_samples_split,\n",
    "              'min_samples_leaf': gs_min_samples_leaf,\n",
    "              'bootstrap': gs_bootstrap}\n",
    "#               'criterion': gs_criterion}"
   ]
  },
  {
   "cell_type": "code",
   "execution_count": 17,
   "id": "82519676",
   "metadata": {},
   "outputs": [],
   "source": [
    "# Instantiate the model\n",
    "rf = RandomForestClassifier()\n",
    "\n",
    "rf_grid_search = GridSearchCV(estimator=rf, \n",
    "                              param_grid=gs_grid, \n",
    "                              cv=5,\n",
    "                              verbose=2,  \n",
    "                              n_jobs=-1, \n",
    "                              scoring='f1')"
   ]
  },
  {
   "cell_type": "code",
   "execution_count": 18,
   "id": "9b4309a8",
   "metadata": {},
   "outputs": [
    {
     "name": "stdout",
     "output_type": "stream",
     "text": [
      "Fitting 5 folds for each of 180 candidates, totalling 900 fits\n"
     ]
    },
    {
     "data": {
      "text/html": [
       "<style>#sk-container-id-2 {color: black;background-color: white;}#sk-container-id-2 pre{padding: 0;}#sk-container-id-2 div.sk-toggleable {background-color: white;}#sk-container-id-2 label.sk-toggleable__label {cursor: pointer;display: block;width: 100%;margin-bottom: 0;padding: 0.3em;box-sizing: border-box;text-align: center;}#sk-container-id-2 label.sk-toggleable__label-arrow:before {content: \"▸\";float: left;margin-right: 0.25em;color: #696969;}#sk-container-id-2 label.sk-toggleable__label-arrow:hover:before {color: black;}#sk-container-id-2 div.sk-estimator:hover label.sk-toggleable__label-arrow:before {color: black;}#sk-container-id-2 div.sk-toggleable__content {max-height: 0;max-width: 0;overflow: hidden;text-align: left;background-color: #f0f8ff;}#sk-container-id-2 div.sk-toggleable__content pre {margin: 0.2em;color: black;border-radius: 0.25em;background-color: #f0f8ff;}#sk-container-id-2 input.sk-toggleable__control:checked~div.sk-toggleable__content {max-height: 200px;max-width: 100%;overflow: auto;}#sk-container-id-2 input.sk-toggleable__control:checked~label.sk-toggleable__label-arrow:before {content: \"▾\";}#sk-container-id-2 div.sk-estimator input.sk-toggleable__control:checked~label.sk-toggleable__label {background-color: #d4ebff;}#sk-container-id-2 div.sk-label input.sk-toggleable__control:checked~label.sk-toggleable__label {background-color: #d4ebff;}#sk-container-id-2 input.sk-hidden--visually {border: 0;clip: rect(1px 1px 1px 1px);clip: rect(1px, 1px, 1px, 1px);height: 1px;margin: -1px;overflow: hidden;padding: 0;position: absolute;width: 1px;}#sk-container-id-2 div.sk-estimator {font-family: monospace;background-color: #f0f8ff;border: 1px dotted black;border-radius: 0.25em;box-sizing: border-box;margin-bottom: 0.5em;}#sk-container-id-2 div.sk-estimator:hover {background-color: #d4ebff;}#sk-container-id-2 div.sk-parallel-item::after {content: \"\";width: 100%;border-bottom: 1px solid gray;flex-grow: 1;}#sk-container-id-2 div.sk-label:hover label.sk-toggleable__label {background-color: #d4ebff;}#sk-container-id-2 div.sk-serial::before {content: \"\";position: absolute;border-left: 1px solid gray;box-sizing: border-box;top: 0;bottom: 0;left: 50%;z-index: 0;}#sk-container-id-2 div.sk-serial {display: flex;flex-direction: column;align-items: center;background-color: white;padding-right: 0.2em;padding-left: 0.2em;position: relative;}#sk-container-id-2 div.sk-item {position: relative;z-index: 1;}#sk-container-id-2 div.sk-parallel {display: flex;align-items: stretch;justify-content: center;background-color: white;position: relative;}#sk-container-id-2 div.sk-item::before, #sk-container-id-2 div.sk-parallel-item::before {content: \"\";position: absolute;border-left: 1px solid gray;box-sizing: border-box;top: 0;bottom: 0;left: 50%;z-index: -1;}#sk-container-id-2 div.sk-parallel-item {display: flex;flex-direction: column;z-index: 1;position: relative;background-color: white;}#sk-container-id-2 div.sk-parallel-item:first-child::after {align-self: flex-end;width: 50%;}#sk-container-id-2 div.sk-parallel-item:last-child::after {align-self: flex-start;width: 50%;}#sk-container-id-2 div.sk-parallel-item:only-child::after {width: 0;}#sk-container-id-2 div.sk-dashed-wrapped {border: 1px dashed gray;margin: 0 0.4em 0.5em 0.4em;box-sizing: border-box;padding-bottom: 0.4em;background-color: white;}#sk-container-id-2 div.sk-label label {font-family: monospace;font-weight: bold;display: inline-block;line-height: 1.2em;}#sk-container-id-2 div.sk-label-container {text-align: center;}#sk-container-id-2 div.sk-container {/* jupyter's `normalize.less` sets `[hidden] { display: none; }` but bootstrap.min.css set `[hidden] { display: none !important; }` so we also need the `!important` here to be able to override the default hidden behavior on the sphinx rendered scikit-learn.org. See: https://github.com/scikit-learn/scikit-learn/issues/21755 */display: inline-block !important;position: relative;}#sk-container-id-2 div.sk-text-repr-fallback {display: none;}</style><div id=\"sk-container-id-2\" class=\"sk-top-container\"><div class=\"sk-text-repr-fallback\"><pre>GridSearchCV(cv=5, estimator=RandomForestClassifier(), n_jobs=-1,\n",
       "             param_grid={&#x27;bootstrap&#x27;: [True], &#x27;max_depth&#x27;: [70, 80, 90],\n",
       "                         &#x27;min_samples_leaf&#x27;: [1, 2],\n",
       "                         &#x27;min_samples_split&#x27;: [2, 5, 10],\n",
       "                         &#x27;n_estimators&#x27;: [1700, 1722, 1744, 1766, 1788, 1811,\n",
       "                                          1833, 1855, 1877, 1900]},\n",
       "             scoring=&#x27;f1&#x27;, verbose=2)</pre><b>In a Jupyter environment, please rerun this cell to show the HTML representation or trust the notebook. <br />On GitHub, the HTML representation is unable to render, please try loading this page with nbviewer.org.</b></div><div class=\"sk-container\" hidden><div class=\"sk-item sk-dashed-wrapped\"><div class=\"sk-label-container\"><div class=\"sk-label sk-toggleable\"><input class=\"sk-toggleable__control sk-hidden--visually\" id=\"sk-estimator-id-4\" type=\"checkbox\" ><label for=\"sk-estimator-id-4\" class=\"sk-toggleable__label sk-toggleable__label-arrow\">GridSearchCV</label><div class=\"sk-toggleable__content\"><pre>GridSearchCV(cv=5, estimator=RandomForestClassifier(), n_jobs=-1,\n",
       "             param_grid={&#x27;bootstrap&#x27;: [True], &#x27;max_depth&#x27;: [70, 80, 90],\n",
       "                         &#x27;min_samples_leaf&#x27;: [1, 2],\n",
       "                         &#x27;min_samples_split&#x27;: [2, 5, 10],\n",
       "                         &#x27;n_estimators&#x27;: [1700, 1722, 1744, 1766, 1788, 1811,\n",
       "                                          1833, 1855, 1877, 1900]},\n",
       "             scoring=&#x27;f1&#x27;, verbose=2)</pre></div></div></div><div class=\"sk-parallel\"><div class=\"sk-parallel-item\"><div class=\"sk-item\"><div class=\"sk-label-container\"><div class=\"sk-label sk-toggleable\"><input class=\"sk-toggleable__control sk-hidden--visually\" id=\"sk-estimator-id-5\" type=\"checkbox\" ><label for=\"sk-estimator-id-5\" class=\"sk-toggleable__label sk-toggleable__label-arrow\">estimator: RandomForestClassifier</label><div class=\"sk-toggleable__content\"><pre>RandomForestClassifier()</pre></div></div></div><div class=\"sk-serial\"><div class=\"sk-item\"><div class=\"sk-estimator sk-toggleable\"><input class=\"sk-toggleable__control sk-hidden--visually\" id=\"sk-estimator-id-6\" type=\"checkbox\" ><label for=\"sk-estimator-id-6\" class=\"sk-toggleable__label sk-toggleable__label-arrow\">RandomForestClassifier</label><div class=\"sk-toggleable__content\"><pre>RandomForestClassifier()</pre></div></div></div></div></div></div></div></div></div></div>"
      ],
      "text/plain": [
       "GridSearchCV(cv=5, estimator=RandomForestClassifier(), n_jobs=-1,\n",
       "             param_grid={'bootstrap': [True], 'max_depth': [70, 80, 90],\n",
       "                         'min_samples_leaf': [1, 2],\n",
       "                         'min_samples_split': [2, 5, 10],\n",
       "                         'n_estimators': [1700, 1722, 1744, 1766, 1788, 1811,\n",
       "                                          1833, 1855, 1877, 1900]},\n",
       "             scoring='f1', verbose=2)"
      ]
     },
     "execution_count": 18,
     "metadata": {},
     "output_type": "execute_result"
    }
   ],
   "source": [
    "rf_grid_search.fit(X_train_ros, y_train_ros) # no log transformation"
   ]
  },
  {
   "cell_type": "code",
   "execution_count": 19,
   "id": "ba4a16e8",
   "metadata": {},
   "outputs": [
    {
     "data": {
      "text/plain": [
       "{'bootstrap': True,\n",
       " 'max_depth': 70,\n",
       " 'min_samples_leaf': 1,\n",
       " 'min_samples_split': 2,\n",
       " 'n_estimators': 1877}"
      ]
     },
     "execution_count": 19,
     "metadata": {},
     "output_type": "execute_result"
    }
   ],
   "source": [
    "# Best parameters from grid search\n",
    "rf_grid_search.best_params_"
   ]
  },
  {
   "cell_type": "code",
   "execution_count": 20,
   "id": "2d8062ba",
   "metadata": {},
   "outputs": [
    {
     "data": {
      "text/plain": [
       "0.8099723047312247"
      ]
     },
     "execution_count": 20,
     "metadata": {},
     "output_type": "execute_result"
    }
   ],
   "source": [
    "# Best F1 score (GridSearch)\n",
    "rf_grid_search.best_score_"
   ]
  },
  {
   "cell_type": "code",
   "execution_count": 82,
   "id": "2c7d3a2f",
   "metadata": {},
   "outputs": [
    {
     "name": "stdout",
     "output_type": "stream",
     "text": [
      "Random Forest F1 Scores: \n",
      "\n",
      "\n",
      "Baseline:  0.6701\n",
      "Resampled:  0.8118\n",
      "Log-Transformed, Resampled:  0.812\n",
      "RandomSearchCV:  0.8045\n",
      "GridSearchCV:  0.81\n"
     ]
    }
   ],
   "source": [
    "# F1 Scores\n",
    "print(\"Random Forest F1 Scores: \")\n",
    "\n",
    "print('\\n')\n",
    "\n",
    "baseline_f1 = np.mean(cross_val_score(rf, X_train, y_train, cv=kf, scoring='f1'))\n",
    "print(\"Baseline: \", np.round(baseline_f1, 4))\n",
    "ros_f1 = np.mean(cross_val_score(rf, X_train_ros, y_train_ros, cv=kf, scoring='f1'))\n",
    "print(\"Resampled: \", np.round(ros_f1, 4))\n",
    "log_ros_f1 = np.mean(cross_val_score(rf, log_X_train_ros, y_train_ros, cv=kf, scoring='f1'))\n",
    "print(\"Log-Transformed, Resampled: \", np.round(log_ros_f1, 4))\n",
    "print(\"RandomSearchCV: \", np.round(rf_random_search.best_score_, 4))\n",
    "print(\"GridSearchCV: \", np.round(rf_grid_search.best_score_, 4))"
   ]
  },
  {
   "cell_type": "markdown",
   "id": "3d377719",
   "metadata": {},
   "source": [
    "# Feature Selection"
   ]
  },
  {
   "cell_type": "markdown",
   "id": "2b337f64",
   "metadata": {},
   "source": [
    "One last thing before we test on our test data.  Let's see if we can reduce the number of features by doing feature selection.  This will optimize our model's efficiency."
   ]
  },
  {
   "cell_type": "code",
   "execution_count": 30,
   "id": "2c4036c2",
   "metadata": {},
   "outputs": [
    {
     "data": {
      "text/html": [
       "<style>#sk-container-id-3 {color: black;background-color: white;}#sk-container-id-3 pre{padding: 0;}#sk-container-id-3 div.sk-toggleable {background-color: white;}#sk-container-id-3 label.sk-toggleable__label {cursor: pointer;display: block;width: 100%;margin-bottom: 0;padding: 0.3em;box-sizing: border-box;text-align: center;}#sk-container-id-3 label.sk-toggleable__label-arrow:before {content: \"▸\";float: left;margin-right: 0.25em;color: #696969;}#sk-container-id-3 label.sk-toggleable__label-arrow:hover:before {color: black;}#sk-container-id-3 div.sk-estimator:hover label.sk-toggleable__label-arrow:before {color: black;}#sk-container-id-3 div.sk-toggleable__content {max-height: 0;max-width: 0;overflow: hidden;text-align: left;background-color: #f0f8ff;}#sk-container-id-3 div.sk-toggleable__content pre {margin: 0.2em;color: black;border-radius: 0.25em;background-color: #f0f8ff;}#sk-container-id-3 input.sk-toggleable__control:checked~div.sk-toggleable__content {max-height: 200px;max-width: 100%;overflow: auto;}#sk-container-id-3 input.sk-toggleable__control:checked~label.sk-toggleable__label-arrow:before {content: \"▾\";}#sk-container-id-3 div.sk-estimator input.sk-toggleable__control:checked~label.sk-toggleable__label {background-color: #d4ebff;}#sk-container-id-3 div.sk-label input.sk-toggleable__control:checked~label.sk-toggleable__label {background-color: #d4ebff;}#sk-container-id-3 input.sk-hidden--visually {border: 0;clip: rect(1px 1px 1px 1px);clip: rect(1px, 1px, 1px, 1px);height: 1px;margin: -1px;overflow: hidden;padding: 0;position: absolute;width: 1px;}#sk-container-id-3 div.sk-estimator {font-family: monospace;background-color: #f0f8ff;border: 1px dotted black;border-radius: 0.25em;box-sizing: border-box;margin-bottom: 0.5em;}#sk-container-id-3 div.sk-estimator:hover {background-color: #d4ebff;}#sk-container-id-3 div.sk-parallel-item::after {content: \"\";width: 100%;border-bottom: 1px solid gray;flex-grow: 1;}#sk-container-id-3 div.sk-label:hover label.sk-toggleable__label {background-color: #d4ebff;}#sk-container-id-3 div.sk-serial::before {content: \"\";position: absolute;border-left: 1px solid gray;box-sizing: border-box;top: 0;bottom: 0;left: 50%;z-index: 0;}#sk-container-id-3 div.sk-serial {display: flex;flex-direction: column;align-items: center;background-color: white;padding-right: 0.2em;padding-left: 0.2em;position: relative;}#sk-container-id-3 div.sk-item {position: relative;z-index: 1;}#sk-container-id-3 div.sk-parallel {display: flex;align-items: stretch;justify-content: center;background-color: white;position: relative;}#sk-container-id-3 div.sk-item::before, #sk-container-id-3 div.sk-parallel-item::before {content: \"\";position: absolute;border-left: 1px solid gray;box-sizing: border-box;top: 0;bottom: 0;left: 50%;z-index: -1;}#sk-container-id-3 div.sk-parallel-item {display: flex;flex-direction: column;z-index: 1;position: relative;background-color: white;}#sk-container-id-3 div.sk-parallel-item:first-child::after {align-self: flex-end;width: 50%;}#sk-container-id-3 div.sk-parallel-item:last-child::after {align-self: flex-start;width: 50%;}#sk-container-id-3 div.sk-parallel-item:only-child::after {width: 0;}#sk-container-id-3 div.sk-dashed-wrapped {border: 1px dashed gray;margin: 0 0.4em 0.5em 0.4em;box-sizing: border-box;padding-bottom: 0.4em;background-color: white;}#sk-container-id-3 div.sk-label label {font-family: monospace;font-weight: bold;display: inline-block;line-height: 1.2em;}#sk-container-id-3 div.sk-label-container {text-align: center;}#sk-container-id-3 div.sk-container {/* jupyter's `normalize.less` sets `[hidden] { display: none; }` but bootstrap.min.css set `[hidden] { display: none !important; }` so we also need the `!important` here to be able to override the default hidden behavior on the sphinx rendered scikit-learn.org. See: https://github.com/scikit-learn/scikit-learn/issues/21755 */display: inline-block !important;position: relative;}#sk-container-id-3 div.sk-text-repr-fallback {display: none;}</style><div id=\"sk-container-id-3\" class=\"sk-top-container\"><div class=\"sk-text-repr-fallback\"><pre>SelectFromModel(estimator=RandomForestClassifier(max_depth=70,\n",
       "                                                 n_estimators=1877,\n",
       "                                                 random_state=42))</pre><b>In a Jupyter environment, please rerun this cell to show the HTML representation or trust the notebook. <br />On GitHub, the HTML representation is unable to render, please try loading this page with nbviewer.org.</b></div><div class=\"sk-container\" hidden><div class=\"sk-item sk-dashed-wrapped\"><div class=\"sk-label-container\"><div class=\"sk-label sk-toggleable\"><input class=\"sk-toggleable__control sk-hidden--visually\" id=\"sk-estimator-id-7\" type=\"checkbox\" ><label for=\"sk-estimator-id-7\" class=\"sk-toggleable__label sk-toggleable__label-arrow\">SelectFromModel</label><div class=\"sk-toggleable__content\"><pre>SelectFromModel(estimator=RandomForestClassifier(max_depth=70,\n",
       "                                                 n_estimators=1877,\n",
       "                                                 random_state=42))</pre></div></div></div><div class=\"sk-parallel\"><div class=\"sk-parallel-item\"><div class=\"sk-item\"><div class=\"sk-label-container\"><div class=\"sk-label sk-toggleable\"><input class=\"sk-toggleable__control sk-hidden--visually\" id=\"sk-estimator-id-8\" type=\"checkbox\" ><label for=\"sk-estimator-id-8\" class=\"sk-toggleable__label sk-toggleable__label-arrow\">estimator: RandomForestClassifier</label><div class=\"sk-toggleable__content\"><pre>RandomForestClassifier(max_depth=70, n_estimators=1877, random_state=42)</pre></div></div></div><div class=\"sk-serial\"><div class=\"sk-item\"><div class=\"sk-estimator sk-toggleable\"><input class=\"sk-toggleable__control sk-hidden--visually\" id=\"sk-estimator-id-9\" type=\"checkbox\" ><label for=\"sk-estimator-id-9\" class=\"sk-toggleable__label sk-toggleable__label-arrow\">RandomForestClassifier</label><div class=\"sk-toggleable__content\"><pre>RandomForestClassifier(max_depth=70, n_estimators=1877, random_state=42)</pre></div></div></div></div></div></div></div></div></div></div>"
      ],
      "text/plain": [
       "SelectFromModel(estimator=RandomForestClassifier(max_depth=70,\n",
       "                                                 n_estimators=1877,\n",
       "                                                 random_state=42))"
      ]
     },
     "execution_count": 30,
     "metadata": {},
     "output_type": "execute_result"
    }
   ],
   "source": [
    "rf_feat_selection_model = SelectFromModel(RandomForestClassifier(bootstrap=True,\n",
    "                                                 max_depth=70,\n",
    "                                                 min_samples_leaf=1,\n",
    "                                                 min_samples_split=2,\n",
    "                                                 n_estimators=1877,\n",
    "                                                 random_state=42))\n",
    "rf_feat_selection_model.fit(X_train_ros, y_train_ros)"
   ]
  },
  {
   "cell_type": "code",
   "execution_count": 31,
   "id": "30d6f67d",
   "metadata": {},
   "outputs": [
    {
     "data": {
      "text/plain": [
       "Index(['AGE', 'GP', 'W', 'MIN', 'PTS', 'OREB', 'DREB', 'REB', 'TOV', 'PF',\n",
       "       '+/-'],\n",
       "      dtype='object')"
      ]
     },
     "execution_count": 31,
     "metadata": {},
     "output_type": "execute_result"
    }
   ],
   "source": [
    "# Features selected as important\n",
    "selected_features = X_train_ros.columns[(rf_feat_selection_model.get_support())]\n",
    "selected_features"
   ]
  },
  {
   "cell_type": "code",
   "execution_count": 32,
   "id": "4a69f310",
   "metadata": {},
   "outputs": [
    {
     "data": {
      "text/plain": [
       "Index(['AGE', 'GP', 'W', 'L', 'MIN', 'PTS', 'FG%', '3P%', 'FT%', 'OREB',\n",
       "       'DREB', 'REB', 'AST', 'TOV', 'STL', 'BLK', 'PF', 'DD2', 'TD3', '+/-'],\n",
       "      dtype='object')"
      ]
     },
     "execution_count": 32,
     "metadata": {},
     "output_type": "execute_result"
    }
   ],
   "source": [
    "# Original list of features\n",
    "original_features = X_train_ros.columns\n",
    "original_features"
   ]
  },
  {
   "cell_type": "code",
   "execution_count": 33,
   "id": "3edf939e",
   "metadata": {},
   "outputs": [
    {
     "name": "stdout",
     "output_type": "stream",
     "text": [
      "The model selected 11 out of 20 features as being important to prediction.\n"
     ]
    }
   ],
   "source": [
    "print(\"The model selected\", len(selected_features), \"out of\", len(original_features), \"features as being important to prediction.\")"
   ]
  },
  {
   "cell_type": "markdown",
   "id": "ff2563ff",
   "metadata": {},
   "source": [
    "### Retrain with only selected features"
   ]
  },
  {
   "cell_type": "code",
   "execution_count": 36,
   "id": "fbfe7547",
   "metadata": {},
   "outputs": [],
   "source": [
    "# Retrain with only selected_features\n",
    "X_sel_feat = rookie_yrs.drop(columns=['PLAYER', 'TEAM', 'SEASON','TARGET_4UP', \n",
    "                                 'NUM_YRS', 'L', 'FG%', '3P%', 'FT%', 'AST', \n",
    "                                      'STL', 'BLK', 'DD2', 'TD3', 'log_GP', \n",
    "                                      'log_PF', 'log_MIN', 'log_PTS', 'log_REB']) \n",
    "y = rookie_yrs['TARGET_4UP']\n",
    "\n",
    "# Partition dataset\n",
    "X_train_sel_feat, X_test_sel_feat, y_train, y_test = train_test_split(X_sel_feat, y, test_size=0.2, \n",
    "                                                    random_state=42, \n",
    "                                                    stratify=y)"
   ]
  },
  {
   "cell_type": "code",
   "execution_count": 38,
   "id": "a7010072",
   "metadata": {},
   "outputs": [
    {
     "data": {
      "text/html": [
       "<div>\n",
       "<style scoped>\n",
       "    .dataframe tbody tr th:only-of-type {\n",
       "        vertical-align: middle;\n",
       "    }\n",
       "\n",
       "    .dataframe tbody tr th {\n",
       "        vertical-align: top;\n",
       "    }\n",
       "\n",
       "    .dataframe thead th {\n",
       "        text-align: right;\n",
       "    }\n",
       "</style>\n",
       "<table border=\"1\" class=\"dataframe\">\n",
       "  <thead>\n",
       "    <tr style=\"text-align: right;\">\n",
       "      <th></th>\n",
       "      <th>AGE</th>\n",
       "      <th>GP</th>\n",
       "      <th>W</th>\n",
       "      <th>MIN</th>\n",
       "      <th>PTS</th>\n",
       "      <th>OREB</th>\n",
       "      <th>DREB</th>\n",
       "      <th>REB</th>\n",
       "      <th>TOV</th>\n",
       "      <th>PF</th>\n",
       "      <th>+/-</th>\n",
       "    </tr>\n",
       "  </thead>\n",
       "  <tbody>\n",
       "    <tr>\n",
       "      <th>0</th>\n",
       "      <td>20</td>\n",
       "      <td>79</td>\n",
       "      <td>21</td>\n",
       "      <td>2429.0</td>\n",
       "      <td>1197</td>\n",
       "      <td>84</td>\n",
       "      <td>272</td>\n",
       "      <td>356</td>\n",
       "      <td>119</td>\n",
       "      <td>164</td>\n",
       "      <td>-244</td>\n",
       "    </tr>\n",
       "    <tr>\n",
       "      <th>1</th>\n",
       "      <td>20</td>\n",
       "      <td>67</td>\n",
       "      <td>12</td>\n",
       "      <td>2137.7</td>\n",
       "      <td>1157</td>\n",
       "      <td>33</td>\n",
       "      <td>193</td>\n",
       "      <td>226</td>\n",
       "      <td>135</td>\n",
       "      <td>103</td>\n",
       "      <td>-519</td>\n",
       "    </tr>\n",
       "    <tr>\n",
       "      <th>2</th>\n",
       "      <td>20</td>\n",
       "      <td>74</td>\n",
       "      <td>43</td>\n",
       "      <td>2617.3</td>\n",
       "      <td>1134</td>\n",
       "      <td>195</td>\n",
       "      <td>362</td>\n",
       "      <td>557</td>\n",
       "      <td>136</td>\n",
       "      <td>192</td>\n",
       "      <td>66</td>\n",
       "    </tr>\n",
       "    <tr>\n",
       "      <th>3</th>\n",
       "      <td>20</td>\n",
       "      <td>64</td>\n",
       "      <td>20</td>\n",
       "      <td>2088.1</td>\n",
       "      <td>1114</td>\n",
       "      <td>58</td>\n",
       "      <td>296</td>\n",
       "      <td>354</td>\n",
       "      <td>234</td>\n",
       "      <td>200</td>\n",
       "      <td>-275</td>\n",
       "    </tr>\n",
       "    <tr>\n",
       "      <th>4</th>\n",
       "      <td>21</td>\n",
       "      <td>69</td>\n",
       "      <td>40</td>\n",
       "      <td>2331.0</td>\n",
       "      <td>1034</td>\n",
       "      <td>143</td>\n",
       "      <td>427</td>\n",
       "      <td>570</td>\n",
       "      <td>133</td>\n",
       "      <td>147</td>\n",
       "      <td>95</td>\n",
       "    </tr>\n",
       "  </tbody>\n",
       "</table>\n",
       "</div>"
      ],
      "text/plain": [
       "   AGE  GP   W     MIN   PTS  OREB  DREB  REB  TOV   PF  +/-\n",
       "0   20  79  21  2429.0  1197    84   272  356  119  164 -244\n",
       "1   20  67  12  2137.7  1157    33   193  226  135  103 -519\n",
       "2   20  74  43  2617.3  1134   195   362  557  136  192   66\n",
       "3   20  64  20  2088.1  1114    58   296  354  234  200 -275\n",
       "4   21  69  40  2331.0  1034   143   427  570  133  147   95"
      ]
     },
     "execution_count": 38,
     "metadata": {},
     "output_type": "execute_result"
    }
   ],
   "source": [
    "X_sel_feat.head()"
   ]
  },
  {
   "cell_type": "code",
   "execution_count": 39,
   "id": "53bd4b78",
   "metadata": {},
   "outputs": [],
   "source": [
    "# Resample our dataset\n",
    "# Randomly oversample positives\n",
    "ros = RandomOverSampler(random_state=42)\n",
    "\n",
    "X_train_sel_feat_ros, y_train_ros = ros.fit_resample(X_train_sel_feat, y_train)"
   ]
  },
  {
   "cell_type": "code",
   "execution_count": 40,
   "id": "177ddee7",
   "metadata": {},
   "outputs": [
    {
     "data": {
      "text/html": [
       "<style>#sk-container-id-4 {color: black;background-color: white;}#sk-container-id-4 pre{padding: 0;}#sk-container-id-4 div.sk-toggleable {background-color: white;}#sk-container-id-4 label.sk-toggleable__label {cursor: pointer;display: block;width: 100%;margin-bottom: 0;padding: 0.3em;box-sizing: border-box;text-align: center;}#sk-container-id-4 label.sk-toggleable__label-arrow:before {content: \"▸\";float: left;margin-right: 0.25em;color: #696969;}#sk-container-id-4 label.sk-toggleable__label-arrow:hover:before {color: black;}#sk-container-id-4 div.sk-estimator:hover label.sk-toggleable__label-arrow:before {color: black;}#sk-container-id-4 div.sk-toggleable__content {max-height: 0;max-width: 0;overflow: hidden;text-align: left;background-color: #f0f8ff;}#sk-container-id-4 div.sk-toggleable__content pre {margin: 0.2em;color: black;border-radius: 0.25em;background-color: #f0f8ff;}#sk-container-id-4 input.sk-toggleable__control:checked~div.sk-toggleable__content {max-height: 200px;max-width: 100%;overflow: auto;}#sk-container-id-4 input.sk-toggleable__control:checked~label.sk-toggleable__label-arrow:before {content: \"▾\";}#sk-container-id-4 div.sk-estimator input.sk-toggleable__control:checked~label.sk-toggleable__label {background-color: #d4ebff;}#sk-container-id-4 div.sk-label input.sk-toggleable__control:checked~label.sk-toggleable__label {background-color: #d4ebff;}#sk-container-id-4 input.sk-hidden--visually {border: 0;clip: rect(1px 1px 1px 1px);clip: rect(1px, 1px, 1px, 1px);height: 1px;margin: -1px;overflow: hidden;padding: 0;position: absolute;width: 1px;}#sk-container-id-4 div.sk-estimator {font-family: monospace;background-color: #f0f8ff;border: 1px dotted black;border-radius: 0.25em;box-sizing: border-box;margin-bottom: 0.5em;}#sk-container-id-4 div.sk-estimator:hover {background-color: #d4ebff;}#sk-container-id-4 div.sk-parallel-item::after {content: \"\";width: 100%;border-bottom: 1px solid gray;flex-grow: 1;}#sk-container-id-4 div.sk-label:hover label.sk-toggleable__label {background-color: #d4ebff;}#sk-container-id-4 div.sk-serial::before {content: \"\";position: absolute;border-left: 1px solid gray;box-sizing: border-box;top: 0;bottom: 0;left: 50%;z-index: 0;}#sk-container-id-4 div.sk-serial {display: flex;flex-direction: column;align-items: center;background-color: white;padding-right: 0.2em;padding-left: 0.2em;position: relative;}#sk-container-id-4 div.sk-item {position: relative;z-index: 1;}#sk-container-id-4 div.sk-parallel {display: flex;align-items: stretch;justify-content: center;background-color: white;position: relative;}#sk-container-id-4 div.sk-item::before, #sk-container-id-4 div.sk-parallel-item::before {content: \"\";position: absolute;border-left: 1px solid gray;box-sizing: border-box;top: 0;bottom: 0;left: 50%;z-index: -1;}#sk-container-id-4 div.sk-parallel-item {display: flex;flex-direction: column;z-index: 1;position: relative;background-color: white;}#sk-container-id-4 div.sk-parallel-item:first-child::after {align-self: flex-end;width: 50%;}#sk-container-id-4 div.sk-parallel-item:last-child::after {align-self: flex-start;width: 50%;}#sk-container-id-4 div.sk-parallel-item:only-child::after {width: 0;}#sk-container-id-4 div.sk-dashed-wrapped {border: 1px dashed gray;margin: 0 0.4em 0.5em 0.4em;box-sizing: border-box;padding-bottom: 0.4em;background-color: white;}#sk-container-id-4 div.sk-label label {font-family: monospace;font-weight: bold;display: inline-block;line-height: 1.2em;}#sk-container-id-4 div.sk-label-container {text-align: center;}#sk-container-id-4 div.sk-container {/* jupyter's `normalize.less` sets `[hidden] { display: none; }` but bootstrap.min.css set `[hidden] { display: none !important; }` so we also need the `!important` here to be able to override the default hidden behavior on the sphinx rendered scikit-learn.org. See: https://github.com/scikit-learn/scikit-learn/issues/21755 */display: inline-block !important;position: relative;}#sk-container-id-4 div.sk-text-repr-fallback {display: none;}</style><div id=\"sk-container-id-4\" class=\"sk-top-container\"><div class=\"sk-text-repr-fallback\"><pre>RandomForestClassifier(max_depth=70, n_estimators=1877, random_state=42)</pre><b>In a Jupyter environment, please rerun this cell to show the HTML representation or trust the notebook. <br />On GitHub, the HTML representation is unable to render, please try loading this page with nbviewer.org.</b></div><div class=\"sk-container\" hidden><div class=\"sk-item\"><div class=\"sk-estimator sk-toggleable\"><input class=\"sk-toggleable__control sk-hidden--visually\" id=\"sk-estimator-id-10\" type=\"checkbox\" checked><label for=\"sk-estimator-id-10\" class=\"sk-toggleable__label sk-toggleable__label-arrow\">RandomForestClassifier</label><div class=\"sk-toggleable__content\"><pre>RandomForestClassifier(max_depth=70, n_estimators=1877, random_state=42)</pre></div></div></div></div></div>"
      ],
      "text/plain": [
       "RandomForestClassifier(max_depth=70, n_estimators=1877, random_state=42)"
      ]
     },
     "execution_count": 40,
     "metadata": {},
     "output_type": "execute_result"
    }
   ],
   "source": [
    "# Instantitate model\n",
    "rf_new = RandomForestClassifier(bootstrap=True,\n",
    "                                max_depth=70,\n",
    "                                min_samples_leaf=1,\n",
    "                                min_samples_split=2,\n",
    "                                n_estimators=1877,\n",
    "                                random_state=42)\n",
    "\n",
    "rf_new.fit(X_train_sel_feat_ros, y_train_ros)"
   ]
  },
  {
   "cell_type": "code",
   "execution_count": 41,
   "id": "369fd500",
   "metadata": {},
   "outputs": [],
   "source": [
    "# Mean F1 scores using selected features only\n",
    "sel_feat_f1 = np.mean(cross_val_score(rf_new, X_train_sel_feat_ros, y_train_ros, cv=kf, scoring='f1'))"
   ]
  },
  {
   "cell_type": "code",
   "execution_count": 42,
   "id": "1288d704",
   "metadata": {},
   "outputs": [
    {
     "name": "stdout",
     "output_type": "stream",
     "text": [
      "Before feature selection F1:  0.81\n",
      "After feature selection F1:  0.817\n"
     ]
    }
   ],
   "source": [
    "print(\"Before feature selection F1: \", np.round(rf_grid_search.best_score_, 4))\n",
    "print(\"After feature selection F1: \", np.round(sel_feat_f1, 3))"
   ]
  },
  {
   "cell_type": "markdown",
   "id": "17cad018",
   "metadata": {},
   "source": [
    "**Not a significant difference.  However, reducing the number of features helps to optimize the efficiency of our model and reduces overfitting.**"
   ]
  },
  {
   "cell_type": "markdown",
   "id": "fbec6589",
   "metadata": {},
   "source": [
    "# Get Final Score on Test Set\n",
    "### Chosen model: Random Forest - with feature reduction and optimized hyperparameters"
   ]
  },
  {
   "cell_type": "markdown",
   "id": "37273dbc",
   "metadata": {},
   "source": [
    "### Comparing Training and Test Scores and What They Mean\n",
    "    Tr = Te (low) -- underfit\n",
    "    Tr = Te (high) -- good fit\n",
    "    Tr > Te -- overfit\n",
    "    Tr < Te -- outliers"
   ]
  },
  {
   "cell_type": "code",
   "execution_count": 48,
   "id": "879a9c40",
   "metadata": {},
   "outputs": [
    {
     "data": {
      "text/html": [
       "<style>#sk-container-id-6 {color: black;background-color: white;}#sk-container-id-6 pre{padding: 0;}#sk-container-id-6 div.sk-toggleable {background-color: white;}#sk-container-id-6 label.sk-toggleable__label {cursor: pointer;display: block;width: 100%;margin-bottom: 0;padding: 0.3em;box-sizing: border-box;text-align: center;}#sk-container-id-6 label.sk-toggleable__label-arrow:before {content: \"▸\";float: left;margin-right: 0.25em;color: #696969;}#sk-container-id-6 label.sk-toggleable__label-arrow:hover:before {color: black;}#sk-container-id-6 div.sk-estimator:hover label.sk-toggleable__label-arrow:before {color: black;}#sk-container-id-6 div.sk-toggleable__content {max-height: 0;max-width: 0;overflow: hidden;text-align: left;background-color: #f0f8ff;}#sk-container-id-6 div.sk-toggleable__content pre {margin: 0.2em;color: black;border-radius: 0.25em;background-color: #f0f8ff;}#sk-container-id-6 input.sk-toggleable__control:checked~div.sk-toggleable__content {max-height: 200px;max-width: 100%;overflow: auto;}#sk-container-id-6 input.sk-toggleable__control:checked~label.sk-toggleable__label-arrow:before {content: \"▾\";}#sk-container-id-6 div.sk-estimator input.sk-toggleable__control:checked~label.sk-toggleable__label {background-color: #d4ebff;}#sk-container-id-6 div.sk-label input.sk-toggleable__control:checked~label.sk-toggleable__label {background-color: #d4ebff;}#sk-container-id-6 input.sk-hidden--visually {border: 0;clip: rect(1px 1px 1px 1px);clip: rect(1px, 1px, 1px, 1px);height: 1px;margin: -1px;overflow: hidden;padding: 0;position: absolute;width: 1px;}#sk-container-id-6 div.sk-estimator {font-family: monospace;background-color: #f0f8ff;border: 1px dotted black;border-radius: 0.25em;box-sizing: border-box;margin-bottom: 0.5em;}#sk-container-id-6 div.sk-estimator:hover {background-color: #d4ebff;}#sk-container-id-6 div.sk-parallel-item::after {content: \"\";width: 100%;border-bottom: 1px solid gray;flex-grow: 1;}#sk-container-id-6 div.sk-label:hover label.sk-toggleable__label {background-color: #d4ebff;}#sk-container-id-6 div.sk-serial::before {content: \"\";position: absolute;border-left: 1px solid gray;box-sizing: border-box;top: 0;bottom: 0;left: 50%;z-index: 0;}#sk-container-id-6 div.sk-serial {display: flex;flex-direction: column;align-items: center;background-color: white;padding-right: 0.2em;padding-left: 0.2em;position: relative;}#sk-container-id-6 div.sk-item {position: relative;z-index: 1;}#sk-container-id-6 div.sk-parallel {display: flex;align-items: stretch;justify-content: center;background-color: white;position: relative;}#sk-container-id-6 div.sk-item::before, #sk-container-id-6 div.sk-parallel-item::before {content: \"\";position: absolute;border-left: 1px solid gray;box-sizing: border-box;top: 0;bottom: 0;left: 50%;z-index: -1;}#sk-container-id-6 div.sk-parallel-item {display: flex;flex-direction: column;z-index: 1;position: relative;background-color: white;}#sk-container-id-6 div.sk-parallel-item:first-child::after {align-self: flex-end;width: 50%;}#sk-container-id-6 div.sk-parallel-item:last-child::after {align-self: flex-start;width: 50%;}#sk-container-id-6 div.sk-parallel-item:only-child::after {width: 0;}#sk-container-id-6 div.sk-dashed-wrapped {border: 1px dashed gray;margin: 0 0.4em 0.5em 0.4em;box-sizing: border-box;padding-bottom: 0.4em;background-color: white;}#sk-container-id-6 div.sk-label label {font-family: monospace;font-weight: bold;display: inline-block;line-height: 1.2em;}#sk-container-id-6 div.sk-label-container {text-align: center;}#sk-container-id-6 div.sk-container {/* jupyter's `normalize.less` sets `[hidden] { display: none; }` but bootstrap.min.css set `[hidden] { display: none !important; }` so we also need the `!important` here to be able to override the default hidden behavior on the sphinx rendered scikit-learn.org. See: https://github.com/scikit-learn/scikit-learn/issues/21755 */display: inline-block !important;position: relative;}#sk-container-id-6 div.sk-text-repr-fallback {display: none;}</style><div id=\"sk-container-id-6\" class=\"sk-top-container\"><div class=\"sk-text-repr-fallback\"><pre>RandomForestClassifier(max_depth=70, n_estimators=1877, random_state=42)</pre><b>In a Jupyter environment, please rerun this cell to show the HTML representation or trust the notebook. <br />On GitHub, the HTML representation is unable to render, please try loading this page with nbviewer.org.</b></div><div class=\"sk-container\" hidden><div class=\"sk-item\"><div class=\"sk-estimator sk-toggleable\"><input class=\"sk-toggleable__control sk-hidden--visually\" id=\"sk-estimator-id-12\" type=\"checkbox\" checked><label for=\"sk-estimator-id-12\" class=\"sk-toggleable__label sk-toggleable__label-arrow\">RandomForestClassifier</label><div class=\"sk-toggleable__content\"><pre>RandomForestClassifier(max_depth=70, n_estimators=1877, random_state=42)</pre></div></div></div></div></div>"
      ],
      "text/plain": [
       "RandomForestClassifier(max_depth=70, n_estimators=1877, random_state=42)"
      ]
     },
     "execution_count": 48,
     "metadata": {},
     "output_type": "execute_result"
    }
   ],
   "source": [
    "# Test set\n",
    "y_test_final = y_test\n",
    "X_test_final = X_test_sel_feat\n",
    "\n",
    "# Instantiate our model with optimized hyperparameters\n",
    "final_model = RandomForestClassifier(bootstrap=True,\n",
    "                                max_depth=70,\n",
    "                                min_samples_leaf=1,\n",
    "                                min_samples_split=2,\n",
    "                                n_estimators=1877,\n",
    "                                random_state=42)\n",
    "final_model.fit(X_train_sel_feat_ros, y_train_ros)"
   ]
  },
  {
   "cell_type": "code",
   "execution_count": 83,
   "id": "24a10435",
   "metadata": {},
   "outputs": [],
   "source": [
    "# Pickle test set\n",
    "with open('y_test_final.pickle', 'wb') as to_write:\n",
    "    pickle.dump(y_test_final, to_write)\n",
    "    \n",
    "with open('X_test_final.pickle', 'wb') as to_write:\n",
    "    pickle.dump(X_test_final, to_write)"
   ]
  },
  {
   "cell_type": "code",
   "execution_count": 52,
   "id": "24e41045",
   "metadata": {},
   "outputs": [
    {
     "name": "stdout",
     "output_type": "stream",
     "text": [
      "Train results: \n",
      "Accuracy: 0.814 +- 0.010\n",
      "Precision: 0.805 +- 0.017\n",
      "Recall: 0.830 +- 0.011\n",
      "F1: 0.817 +- 0.009\n",
      "ROC-AUC: 0.890 +- 0.005\n"
     ]
    }
   ],
   "source": [
    "# Train set\n",
    "print(\"Train results: \")\n",
    "train_scores = score_metrics(model=final_model, X_train=X_train_sel_feat_ros, y_train=y_train_ros)"
   ]
  },
  {
   "cell_type": "code",
   "execution_count": 143,
   "id": "c474ff0e",
   "metadata": {},
   "outputs": [
    {
     "name": "stdout",
     "output_type": "stream",
     "text": [
      "Test results: \n",
      "Accuracy:  0.728\n",
      "Precision:  0.673\n",
      "Recall:  0.66\n",
      "F1:  0.667\n",
      "ROC-AUC:  0.718\n"
     ]
    }
   ],
   "source": [
    "# Score test set\n",
    "print(\"Test results: \")\n",
    "print(\"Accuracy: \", np.round(accuracy_score(y_test_final, y_pred), 3))\n",
    "print(\"Precision: \", np.round(precision_score(y_test_final, y_pred), 3))\n",
    "print(\"Recall: \", np.round(recall_score(y_test_final, y_pred), 3))\n",
    "print(\"F1: \", np.round(f1_score(y_test_final, y_pred), 3))\n",
    "print(\"ROC-AUC: \", np.round(roc_auc_score(y_test_final, y_pred), 3))"
   ]
  },
  {
   "cell_type": "markdown",
   "id": "22484f1f",
   "metadata": {},
   "source": [
    "**All metrics dropped.  F1 score dropped from 0.817 (train) to 0.643 (test).  It is normal to see better scores on training data, but this could also indicate slight overfitting. In the end, our F1 socre of 0.667 is a decent score, not great.  This tells us that our model has the ability to capture positive cases and be accurate with the cases it captures 66.7% of the time.**"
   ]
  },
  {
   "cell_type": "code",
   "execution_count": 57,
   "id": "94e8fbad",
   "metadata": {},
   "outputs": [
    {
     "name": "stdout",
     "output_type": "stream",
     "text": [
      "Final test results: \n",
      "              precision    recall  f1-score   support\n",
      "\n",
      "           0       0.76      0.82      0.79       289\n",
      "           1       0.71      0.63      0.66       203\n",
      "\n",
      "    accuracy                           0.74       492\n",
      "   macro avg       0.73      0.72      0.72       492\n",
      "weighted avg       0.74      0.74      0.73       492\n",
      "\n"
     ]
    }
   ],
   "source": [
    "# Classification report\n",
    "print(\"Final test results: \")\n",
    "class_report_test = classification_report(y_test_final, y_pred)\n",
    "print(class_report_test)\n"
   ]
  },
  {
   "cell_type": "markdown",
   "id": "122d69b1",
   "metadata": {},
   "source": [
    "### Confusion Matrix"
   ]
  },
  {
   "cell_type": "code",
   "execution_count": 55,
   "id": "ebf2309e",
   "metadata": {},
   "outputs": [
    {
     "data": {
      "text/plain": [
       "array([[236,  53],\n",
       "       [ 76, 127]], dtype=int64)"
      ]
     },
     "execution_count": 55,
     "metadata": {},
     "output_type": "execute_result"
    }
   ],
   "source": [
    "y_pred = final_model.predict(X_test_final)\n",
    "\n",
    "# Create confusion matrix\n",
    "confusion_matrix(y_test_final, y_pred)"
   ]
  },
  {
   "cell_type": "code",
   "execution_count": 56,
   "id": "c2c5757d",
   "metadata": {},
   "outputs": [
    {
     "data": {
      "image/png": "[encoded data removed]",
      "text/plain": [
       "<Figure size 600x400 with 2 Axes>"
      ]
     },
     "metadata": {
      "needs_background": "light"
     },
     "output_type": "display_data"
    }
   ],
   "source": [
    "# Plot confusion matrix for random forest with percentage\n",
    "colors = [(1, 1, 1), \n",
    "          ((106/256, 235/256, 245/256)), \n",
    "          ((22/256, 159/256, 169/256)), \n",
    "          ((14/256, 95/256, 101/256))] # first color is black, last is red\n",
    "cm = LinearSegmentedColormap.from_list(\n",
    "        \"Custom\", colors, N=30)\n",
    "rf_confusion = confusion_matrix(y_test_final, y_pred)\n",
    "plt.figure(dpi=100)\n",
    "ax = sns.heatmap(rf_confusion/np.sum(rf_confusion), cmap=cm, annot=True, square=True)\n",
    "\n",
    "\"\"\"\n",
    "0 = NBA rookie played 4 or fewer years in the league\n",
    "1 = NBA rookie played more than 4 yrs\n",
    "\"\"\"\n",
    "\n",
    "ax.xaxis.set_ticklabels(['0', '1'])\n",
    "ax.yaxis.set_ticklabels(['0', '1'])\n",
    "\n",
    "plt.xlabel('Predicted outcome')\n",
    "plt.ylabel('Actual outcome')\n",
    "plt.title('Random Forest Confusion Matrix with Percentage\\n');"
   ]
  },
  {
   "cell_type": "code",
   "execution_count": 80,
   "id": "ccfb1acb",
   "metadata": {},
   "outputs": [
    {
     "name": "stdout",
     "output_type": "stream",
     "text": [
      "ROC AUC Score:  0.807\n"
     ]
    },
    {
     "data": {
      "image/png": "[encoded data removed]",
      "text/plain": [
       "<Figure size 432x288 with 1 Axes>"
      ]
     },
     "metadata": {
      "needs_background": "light"
     },
     "output_type": "display_data"
    }
   ],
   "source": [
    "fpr, tpr, thresholds = roc_curve(y_test_final, final_model.predict_proba(X_test_final)[:,1])\n",
    "\n",
    "plt.plot(fpr, tpr, lw=2)\n",
    "plt.plot([0,1],[0,1],c='violet',ls='--')\n",
    "plt.xlim([-0.05,1.05])\n",
    "plt.ylim([-0.05,1.05])\n",
    "\n",
    "\n",
    "plt.xlabel('False positive rate')\n",
    "plt.ylabel('True positive rate')\n",
    "plt.title('ROC curve');\n",
    "\n",
    "plt.savefig('ROC.jpg')\n",
    "\n",
    "final_model_roc_auc_score =  roc_auc_score(y_test_final, final_model.predict_proba(X_test_final)[:,1])\n",
    "print(\"ROC AUC Score: \", np.round(final_model_roc_auc_score, 3))"
   ]
  },
  {
   "cell_type": "markdown",
   "id": "dc026f3e",
   "metadata": {},
   "source": [
    "**The probability that the model will assign a larger probability to a random positive example than a random negative example is 0.807, which is commonly seen as a good value.  In other words, there is an 80.7% chance that the model will be able to distinguish between positive class and negative class.**"
   ]
  },
  {
   "cell_type": "code",
   "execution_count": 58,
   "id": "0b998726",
   "metadata": {},
   "outputs": [
    {
     "data": {
      "text/html": [
       "<div>\n",
       "<style scoped>\n",
       "    .dataframe tbody tr th:only-of-type {\n",
       "        vertical-align: middle;\n",
       "    }\n",
       "\n",
       "    .dataframe tbody tr th {\n",
       "        vertical-align: top;\n",
       "    }\n",
       "\n",
       "    .dataframe thead th {\n",
       "        text-align: right;\n",
       "    }\n",
       "</style>\n",
       "<table border=\"1\" class=\"dataframe\">\n",
       "  <thead>\n",
       "    <tr style=\"text-align: right;\">\n",
       "      <th></th>\n",
       "      <th>feature importance</th>\n",
       "    </tr>\n",
       "  </thead>\n",
       "  <tbody>\n",
       "    <tr>\n",
       "      <th>GP</th>\n",
       "      <td>0.123442</td>\n",
       "    </tr>\n",
       "    <tr>\n",
       "      <th>MIN</th>\n",
       "      <td>0.113761</td>\n",
       "    </tr>\n",
       "    <tr>\n",
       "      <th>PTS</th>\n",
       "      <td>0.105089</td>\n",
       "    </tr>\n",
       "    <tr>\n",
       "      <th>PF</th>\n",
       "      <td>0.099525</td>\n",
       "    </tr>\n",
       "    <tr>\n",
       "      <th>REB</th>\n",
       "      <td>0.094673</td>\n",
       "    </tr>\n",
       "    <tr>\n",
       "      <th>DREB</th>\n",
       "      <td>0.089062</td>\n",
       "    </tr>\n",
       "    <tr>\n",
       "      <th>+/-</th>\n",
       "      <td>0.080334</td>\n",
       "    </tr>\n",
       "    <tr>\n",
       "      <th>W</th>\n",
       "      <td>0.078269</td>\n",
       "    </tr>\n",
       "    <tr>\n",
       "      <th>OREB</th>\n",
       "      <td>0.076761</td>\n",
       "    </tr>\n",
       "    <tr>\n",
       "      <th>TOV</th>\n",
       "      <td>0.074122</td>\n",
       "    </tr>\n",
       "    <tr>\n",
       "      <th>AGE</th>\n",
       "      <td>0.064962</td>\n",
       "    </tr>\n",
       "  </tbody>\n",
       "</table>\n",
       "</div>"
      ],
      "text/plain": [
       "      feature importance\n",
       "GP              0.123442\n",
       "MIN             0.113761\n",
       "PTS             0.105089\n",
       "PF              0.099525\n",
       "REB             0.094673\n",
       "DREB            0.089062\n",
       "+/-             0.080334\n",
       "W               0.078269\n",
       "OREB            0.076761\n",
       "TOV             0.074122\n",
       "AGE             0.064962"
      ]
     },
     "execution_count": 58,
     "metadata": {},
     "output_type": "execute_result"
    }
   ],
   "source": [
    "# Show feature importances\n",
    "feat_importance_final = pd.DataFrame(final_model.feature_importances_, index=X_train_sel_feat_ros.columns, columns=['feature importance'])\n",
    "feat_importance_final.sort_values(by='feature importance', ascending=False, inplace=True)\n",
    "feat_importance_final"
   ]
  },
  {
   "cell_type": "code",
   "execution_count": 67,
   "id": "ca55efbb",
   "metadata": {},
   "outputs": [
    {
     "data": {
      "image/png": "[encoded data removed]",
      "text/plain": [
       "<Figure size 432x288 with 1 Axes>"
      ]
     },
     "metadata": {
      "needs_background": "light"
     },
     "output_type": "display_data"
    }
   ],
   "source": [
    "# Visualize feature importances\n",
    "feat_importance_final.plot(kind='bar', color='teal') #figsize=(8,6))\n",
    "plt.title('Feature Importances - RandomForest', size=20)\n",
    "plt.xlabel('Features')\n",
    "plt.ylabel('Coefficients')\n",
    "\n",
    "plt.savefig('rf_final_feature_importances.jpg')"
   ]
  },
  {
   "cell_type": "code",
   "execution_count": 68,
   "id": "4381f28a",
   "metadata": {},
   "outputs": [],
   "source": [
    "# Pickle Random Forest model for future use in app\n",
    "import os\n",
    "import pickle\n",
    "\n",
    "with open('final_model.pickle', 'wb') as to_write:\n",
    "    pickle.dump(final_model, to_write)"
   ]
  }
 ],
 "metadata": {
  "kernelspec": {
   "display_name": "Python [conda env:metis] *",
   "language": "python",
   "name": "conda-env-metis-py"
  },
  "language_info": {
   "codemirror_mode": {
    "name": "ipython",
    "version": 3
   },
   "file_extension": ".py",
   "mimetype": "text/x-python",
   "name": "python",
   "nbconvert_exporter": "python",
   "pygments_lexer": "ipython3",
   "version": "3.9.12"
  }
 },
 "nbformat": 4,
 "nbformat_minor": 5
}
